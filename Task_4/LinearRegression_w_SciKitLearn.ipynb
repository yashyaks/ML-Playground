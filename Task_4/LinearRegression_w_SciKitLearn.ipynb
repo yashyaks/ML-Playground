{
 "cells": [
  {
   "cell_type": "markdown",
   "id": "178a7df1",
   "metadata": {},
   "source": [
    "# Linear Regression"
   ]
  },
  {
   "cell_type": "markdown",
   "id": "d55f39fb",
   "metadata": {},
   "source": [
    "### Implementing Linear Regression for predicting profit of a food truck given the population and profits of different cities\n",
    "\n",
    "##### Implementation with scikit learn"
   ]
  },
  {
   "cell_type": "code",
   "execution_count": 57,
   "id": "0b9f29b7",
   "metadata": {},
   "outputs": [],
   "source": [
    "import pandas as pd\n",
    "import matplotlib.pyplot as plt\n",
    "import numpy as np\n",
    "import sklearn.metrics as skm"
   ]
  },
  {
   "cell_type": "code",
   "execution_count": 58,
   "id": "6a8b0d76",
   "metadata": {},
   "outputs": [],
   "source": [
    "df1 = pd.read_csv('Data1.txt',names = ['Population_10000s', 'Profit_10000s_$'])"
   ]
  },
  {
   "cell_type": "code",
   "execution_count": 59,
   "id": "a93152ff",
   "metadata": {},
   "outputs": [
    {
     "data": {
      "text/html": [
       "<div>\n",
       "<style scoped>\n",
       "    .dataframe tbody tr th:only-of-type {\n",
       "        vertical-align: middle;\n",
       "    }\n",
       "\n",
       "    .dataframe tbody tr th {\n",
       "        vertical-align: top;\n",
       "    }\n",
       "\n",
       "    .dataframe thead th {\n",
       "        text-align: right;\n",
       "    }\n",
       "</style>\n",
       "<table border=\"1\" class=\"dataframe\">\n",
       "  <thead>\n",
       "    <tr style=\"text-align: right;\">\n",
       "      <th></th>\n",
       "      <th>Population_10000s</th>\n",
       "      <th>Profit_10000s_$</th>\n",
       "    </tr>\n",
       "  </thead>\n",
       "  <tbody>\n",
       "    <tr>\n",
       "      <th>0</th>\n",
       "      <td>6.1101</td>\n",
       "      <td>17.59200</td>\n",
       "    </tr>\n",
       "    <tr>\n",
       "      <th>1</th>\n",
       "      <td>5.5277</td>\n",
       "      <td>9.13020</td>\n",
       "    </tr>\n",
       "    <tr>\n",
       "      <th>2</th>\n",
       "      <td>8.5186</td>\n",
       "      <td>13.66200</td>\n",
       "    </tr>\n",
       "    <tr>\n",
       "      <th>3</th>\n",
       "      <td>7.0032</td>\n",
       "      <td>11.85400</td>\n",
       "    </tr>\n",
       "    <tr>\n",
       "      <th>4</th>\n",
       "      <td>5.8598</td>\n",
       "      <td>6.82330</td>\n",
       "    </tr>\n",
       "    <tr>\n",
       "      <th>...</th>\n",
       "      <td>...</td>\n",
       "      <td>...</td>\n",
       "    </tr>\n",
       "    <tr>\n",
       "      <th>92</th>\n",
       "      <td>5.8707</td>\n",
       "      <td>7.20290</td>\n",
       "    </tr>\n",
       "    <tr>\n",
       "      <th>93</th>\n",
       "      <td>5.3054</td>\n",
       "      <td>1.98690</td>\n",
       "    </tr>\n",
       "    <tr>\n",
       "      <th>94</th>\n",
       "      <td>8.2934</td>\n",
       "      <td>0.14454</td>\n",
       "    </tr>\n",
       "    <tr>\n",
       "      <th>95</th>\n",
       "      <td>13.3940</td>\n",
       "      <td>9.05510</td>\n",
       "    </tr>\n",
       "    <tr>\n",
       "      <th>96</th>\n",
       "      <td>5.4369</td>\n",
       "      <td>0.61705</td>\n",
       "    </tr>\n",
       "  </tbody>\n",
       "</table>\n",
       "<p>97 rows × 2 columns</p>\n",
       "</div>"
      ],
      "text/plain": [
       "    Population_10000s  Profit_10000s_$\n",
       "0              6.1101         17.59200\n",
       "1              5.5277          9.13020\n",
       "2              8.5186         13.66200\n",
       "3              7.0032         11.85400\n",
       "4              5.8598          6.82330\n",
       "..                ...              ...\n",
       "92             5.8707          7.20290\n",
       "93             5.3054          1.98690\n",
       "94             8.2934          0.14454\n",
       "95            13.3940          9.05510\n",
       "96             5.4369          0.61705\n",
       "\n",
       "[97 rows x 2 columns]"
      ]
     },
     "execution_count": 59,
     "metadata": {},
     "output_type": "execute_result"
    }
   ],
   "source": [
    "df1"
   ]
  },
  {
   "cell_type": "code",
   "execution_count": 60,
   "id": "c4bcc883",
   "metadata": {},
   "outputs": [],
   "source": [
    "df=pd.read_table('Data1.txt', delimiter = ',',names = ['Population_10000s', 'Profit_10000s_$'])"
   ]
  },
  {
   "cell_type": "code",
   "execution_count": 61,
   "id": "31e529a4",
   "metadata": {},
   "outputs": [
    {
     "data": {
      "text/html": [
       "<div>\n",
       "<style scoped>\n",
       "    .dataframe tbody tr th:only-of-type {\n",
       "        vertical-align: middle;\n",
       "    }\n",
       "\n",
       "    .dataframe tbody tr th {\n",
       "        vertical-align: top;\n",
       "    }\n",
       "\n",
       "    .dataframe thead th {\n",
       "        text-align: right;\n",
       "    }\n",
       "</style>\n",
       "<table border=\"1\" class=\"dataframe\">\n",
       "  <thead>\n",
       "    <tr style=\"text-align: right;\">\n",
       "      <th></th>\n",
       "      <th>Population_10000s</th>\n",
       "      <th>Profit_10000s_$</th>\n",
       "    </tr>\n",
       "  </thead>\n",
       "  <tbody>\n",
       "    <tr>\n",
       "      <th>0</th>\n",
       "      <td>6.1101</td>\n",
       "      <td>17.59200</td>\n",
       "    </tr>\n",
       "    <tr>\n",
       "      <th>1</th>\n",
       "      <td>5.5277</td>\n",
       "      <td>9.13020</td>\n",
       "    </tr>\n",
       "    <tr>\n",
       "      <th>2</th>\n",
       "      <td>8.5186</td>\n",
       "      <td>13.66200</td>\n",
       "    </tr>\n",
       "    <tr>\n",
       "      <th>3</th>\n",
       "      <td>7.0032</td>\n",
       "      <td>11.85400</td>\n",
       "    </tr>\n",
       "    <tr>\n",
       "      <th>4</th>\n",
       "      <td>5.8598</td>\n",
       "      <td>6.82330</td>\n",
       "    </tr>\n",
       "    <tr>\n",
       "      <th>...</th>\n",
       "      <td>...</td>\n",
       "      <td>...</td>\n",
       "    </tr>\n",
       "    <tr>\n",
       "      <th>92</th>\n",
       "      <td>5.8707</td>\n",
       "      <td>7.20290</td>\n",
       "    </tr>\n",
       "    <tr>\n",
       "      <th>93</th>\n",
       "      <td>5.3054</td>\n",
       "      <td>1.98690</td>\n",
       "    </tr>\n",
       "    <tr>\n",
       "      <th>94</th>\n",
       "      <td>8.2934</td>\n",
       "      <td>0.14454</td>\n",
       "    </tr>\n",
       "    <tr>\n",
       "      <th>95</th>\n",
       "      <td>13.3940</td>\n",
       "      <td>9.05510</td>\n",
       "    </tr>\n",
       "    <tr>\n",
       "      <th>96</th>\n",
       "      <td>5.4369</td>\n",
       "      <td>0.61705</td>\n",
       "    </tr>\n",
       "  </tbody>\n",
       "</table>\n",
       "<p>97 rows × 2 columns</p>\n",
       "</div>"
      ],
      "text/plain": [
       "    Population_10000s  Profit_10000s_$\n",
       "0              6.1101         17.59200\n",
       "1              5.5277          9.13020\n",
       "2              8.5186         13.66200\n",
       "3              7.0032         11.85400\n",
       "4              5.8598          6.82330\n",
       "..                ...              ...\n",
       "92             5.8707          7.20290\n",
       "93             5.3054          1.98690\n",
       "94             8.2934          0.14454\n",
       "95            13.3940          9.05510\n",
       "96             5.4369          0.61705\n",
       "\n",
       "[97 rows x 2 columns]"
      ]
     },
     "execution_count": 61,
     "metadata": {},
     "output_type": "execute_result"
    }
   ],
   "source": [
    "df"
   ]
  },
  {
   "cell_type": "code",
   "execution_count": 62,
   "id": "dbbb6986",
   "metadata": {},
   "outputs": [
    {
     "data": {
      "text/html": [
       "<div>\n",
       "<style scoped>\n",
       "    .dataframe tbody tr th:only-of-type {\n",
       "        vertical-align: middle;\n",
       "    }\n",
       "\n",
       "    .dataframe tbody tr th {\n",
       "        vertical-align: top;\n",
       "    }\n",
       "\n",
       "    .dataframe thead th {\n",
       "        text-align: right;\n",
       "    }\n",
       "</style>\n",
       "<table border=\"1\" class=\"dataframe\">\n",
       "  <thead>\n",
       "    <tr style=\"text-align: right;\">\n",
       "      <th></th>\n",
       "      <th>Population_10000s</th>\n",
       "      <th>Profit_10000s_$</th>\n",
       "    </tr>\n",
       "  </thead>\n",
       "  <tbody>\n",
       "    <tr>\n",
       "      <th>count</th>\n",
       "      <td>97.000000</td>\n",
       "      <td>97.000000</td>\n",
       "    </tr>\n",
       "    <tr>\n",
       "      <th>mean</th>\n",
       "      <td>8.159800</td>\n",
       "      <td>5.839135</td>\n",
       "    </tr>\n",
       "    <tr>\n",
       "      <th>std</th>\n",
       "      <td>3.869884</td>\n",
       "      <td>5.510262</td>\n",
       "    </tr>\n",
       "    <tr>\n",
       "      <th>min</th>\n",
       "      <td>5.026900</td>\n",
       "      <td>-2.680700</td>\n",
       "    </tr>\n",
       "    <tr>\n",
       "      <th>25%</th>\n",
       "      <td>5.707700</td>\n",
       "      <td>1.986900</td>\n",
       "    </tr>\n",
       "    <tr>\n",
       "      <th>50%</th>\n",
       "      <td>6.589400</td>\n",
       "      <td>4.562300</td>\n",
       "    </tr>\n",
       "    <tr>\n",
       "      <th>75%</th>\n",
       "      <td>8.578100</td>\n",
       "      <td>7.046700</td>\n",
       "    </tr>\n",
       "    <tr>\n",
       "      <th>max</th>\n",
       "      <td>22.203000</td>\n",
       "      <td>24.147000</td>\n",
       "    </tr>\n",
       "  </tbody>\n",
       "</table>\n",
       "</div>"
      ],
      "text/plain": [
       "       Population_10000s  Profit_10000s_$\n",
       "count          97.000000        97.000000\n",
       "mean            8.159800         5.839135\n",
       "std             3.869884         5.510262\n",
       "min             5.026900        -2.680700\n",
       "25%             5.707700         1.986900\n",
       "50%             6.589400         4.562300\n",
       "75%             8.578100         7.046700\n",
       "max            22.203000        24.147000"
      ]
     },
     "execution_count": 62,
     "metadata": {},
     "output_type": "execute_result"
    }
   ],
   "source": [
    "df.describe()"
   ]
  },
  {
   "cell_type": "markdown",
   "id": "e2a0f203",
   "metadata": {},
   "source": [
    "### Scatter plot of Population vs Profit\n"
   ]
  },
  {
   "cell_type": "code",
   "execution_count": 63,
   "id": "94dca843",
   "metadata": {},
   "outputs": [
    {
     "data": {
      "image/png": "[encoded data removed]",
      "text/plain": [
       "<Figure size 640x480 with 1 Axes>"
      ]
     },
     "metadata": {},
     "output_type": "display_data"
    }
   ],
   "source": [
    "plt.scatter(df['Population_10000s'],df['Profit_10000s_$'])\n",
    "plt.xlabel('Population in 10000s')\n",
    "plt.ylabel('Profit in 10000 $')\n",
    "plt.show()"
   ]
  },
  {
   "cell_type": "markdown",
   "id": "67200ab9",
   "metadata": {},
   "source": [
    "### Train-Test Split"
   ]
  },
  {
   "cell_type": "code",
   "execution_count": 64,
   "id": "6d9a7d45-c12f-4ccf-b565-135967cd3a20",
   "metadata": {},
   "outputs": [
    {
     "name": "stdout",
     "output_type": "stream",
     "text": [
      "Total # of sample in whole dataset: 97\n",
      "**************************************************\n",
      "Total # of sample in train dataset: 64\n",
      "Shape of x_train: (64, 1)\n",
      "**************************************************\n",
      "Total # of sample in test dataset: 33\n",
      "Shape of x_test: (33, 1)\n"
     ]
    }
   ],
   "source": [
    "from sklearn.model_selection import train_test_split\n",
    "\n",
    "x = df[['Population_10000s']]\n",
    "y = df[['Profit_10000s_$']]\n",
    "x_train, x_test, y_train, y_test = train_test_split(x, y, test_size = 1/3, random_state = 101)\n",
    "\n",
    "\n",
    "print(f'Total # of sample in whole dataset: {len(x)}')\n",
    "print(\"*****\"*10)\n",
    "print(f'Total # of sample in train dataset: {len(x_train)}')\n",
    "print(f'Shape of x_train: {x_train.shape}')\n",
    "print(\"*****\"*10)\n",
    "print(f'Total # of sample in test dataset: {len(x_test)}')\n",
    "print(f'Shape of x_test: {x_test.shape}')"
   ]
  },
  {
   "cell_type": "markdown",
   "id": "21dc6d7c",
   "metadata": {},
   "source": [
    "### Fitting Simple Linear Regression to Training set"
   ]
  },
  {
   "cell_type": "code",
   "execution_count": 65,
   "id": "908db14f",
   "metadata": {
    "scrolled": true
   },
   "outputs": [
    {
     "data": {
      "text/plain": [
       "LinearRegression()"
      ]
     },
     "execution_count": 65,
     "metadata": {},
     "output_type": "execute_result"
    }
   ],
   "source": [
    "from sklearn.linear_model import LinearRegression\n",
    "regressor = LinearRegression()\n",
    "regressor.fit(x_train,y_train)"
   ]
  },
  {
   "cell_type": "code",
   "execution_count": 93,
   "id": "00542418",
   "metadata": {},
   "outputs": [
    {
     "name": "stdout",
     "output_type": "stream",
     "text": [
      "[[1.13581538]] [-3.6107158]\n"
     ]
    }
   ],
   "source": [
    "print(regressor.coef_, regressor.intercept_)"
   ]
  },
  {
   "cell_type": "markdown",
   "id": "0c122d30",
   "metadata": {},
   "source": [
    "### Predicitng Test set results"
   ]
  },
  {
   "cell_type": "code",
   "execution_count": 66,
   "id": "29688a58",
   "metadata": {},
   "outputs": [],
   "source": [
    "y_pred = regressor.predict(x_test)"
   ]
  },
  {
   "cell_type": "markdown",
   "id": "6d8d9e69",
   "metadata": {},
   "source": [
    "### Visualizing Training set data and Best-fit / regression line"
   ]
  },
  {
   "cell_type": "code",
   "execution_count": 67,
   "id": "edd2ceb0",
   "metadata": {},
   "outputs": [
    {
     "data": {
      "image/png": "[encoded data removed]",
      "text/plain": [
       "<Figure size 640x480 with 1 Axes>"
      ]
     },
     "metadata": {},
     "output_type": "display_data"
    }
   ],
   "source": [
    "plt.scatter(x_train, y_train, color = 'blue')\n",
    "plt.plot(x_train, regressor.predict(x_train) , color = 'red',label = 'best-fit line/regression line')\n",
    "plt.title('Population in 10000s v/s Profit in 10000s_$ (Training set data)')\n",
    "plt.xlabel('Population in 10000s')\n",
    "plt.ylabel('Profit in 10000 $')\n",
    "plt.legend(loc = 'upper center')\n",
    "plt.show()"
   ]
  },
  {
   "cell_type": "markdown",
   "id": "fb2aa646",
   "metadata": {},
   "source": [
    "### Visualizing Test set data and Best-fit / regression line"
   ]
  },
  {
   "cell_type": "code",
   "execution_count": 94,
   "id": "8b2a5749",
   "metadata": {},
   "outputs": [
    {
     "data": {
      "image/png": "[encoded data removed]",
      "text/plain": [
       "<Figure size 640x480 with 1 Axes>"
      ]
     },
     "metadata": {},
     "output_type": "display_data"
    }
   ],
   "source": [
    "plt.scatter(x_test, y_test, color = 'blue')\n",
    "plt.plot(x_train, regressor.predict(x_train) , color = 'red',label = 'best-fit line/regression line')\n",
    "plt.title('Population in 10000s v/s Profit in 10000s_$ (Test set data)')\n",
    "plt.xlabel('Population in 10000s')\n",
    "plt.ylabel('Profit in 10000 $')\n",
    "plt.legend(loc = 'upper center')\n",
    "plt.show()"
   ]
  },
  {
   "cell_type": "code",
   "execution_count": 69,
   "id": "c7852a69",
   "metadata": {},
   "outputs": [
    {
     "name": "stdout",
     "output_type": "stream",
     "text": [
      "Mean Absolute Error: 2.4583355713550614\n"
     ]
    }
   ],
   "source": [
    "MAE = skm.mean_absolute_error(y_test, y_pred)\n",
    "print(\"Mean Absolute Error:\",MAE)"
   ]
  },
  {
   "cell_type": "code",
   "execution_count": 88,
   "id": "9acd55bc",
   "metadata": {},
   "outputs": [
    {
     "name": "stdout",
     "output_type": "stream",
     "text": [
      "Mean Absolute Percentage Error: Profit_10000s_$    181.008898\n",
      "dtype: float64\n",
      "Mean Absolute Percentage Error:  Profit_10000s_$    181.008898\n",
      "dtype: float64\n"
     ]
    }
   ],
   "source": [
    "MAPE = np.mean(np.abs( (y_test-y_pred) / y_test ))*100\n",
    "print(\"Mean Absolute Percentage Error:\",np.mean(np.abs( (y_test-y_pred) / y_test))*100)\n",
    "print(\"Mean Absolute Percentage Error: \",MAPE)"
   ]
  },
  {
   "cell_type": "code",
   "execution_count": 89,
   "id": "3752e393",
   "metadata": {},
   "outputs": [
    {
     "name": "stdout",
     "output_type": "stream",
     "text": [
      "Mean Squared Error:  10.76583715075204\n"
     ]
    }
   ],
   "source": [
    "MSE = skm.mean_squared_error(y_test, y_pred)\n",
    "print(\"Mean Squared Error: \",MSE)"
   ]
  },
  {
   "cell_type": "code",
   "execution_count": 90,
   "id": "fd1ea45e",
   "metadata": {},
   "outputs": [
    {
     "name": "stdout",
     "output_type": "stream",
     "text": [
      "Root Mean Squared Error: 3.2811335161422552\n"
     ]
    }
   ],
   "source": [
    "RMSE = np.sqrt(skm.mean_squared_error(y_test, y_pred))\n",
    "print(\"Root Mean Squared Error:\",RMSE)"
   ]
  },
  {
   "cell_type": "code",
   "execution_count": 91,
   "id": "21fb9999",
   "metadata": {},
   "outputs": [
    {
     "name": "stdout",
     "output_type": "stream",
     "text": [
      "R^2:  0.6585859672651708\n",
      "Adjusted R Squared:  0.6585859672651708\n"
     ]
    }
   ],
   "source": [
    "R2 = skm.r2_score(y_test, y_pred)\n",
    "print(\"R^2: \",R2)\n",
    "\n",
    "n=x_test.shape[0]\n",
    "p=x_test.shape[1] - 1   # subtract 1 coz test.shape also includes attribute we have to predict\n",
    "\n",
    "adj_R2 = 1 - (1 - R2) * ((n - 1)/(n-p-1))\n",
    "print('Adjusted R Squared: ',adj_R2)"
   ]
  },
  {
   "cell_type": "code",
   "execution_count": 92,
   "id": "98f6b2cc",
   "metadata": {},
   "outputs": [
    {
     "data": {
      "text/html": [
       "<div>\n",
       "<style scoped>\n",
       "    .dataframe tbody tr th:only-of-type {\n",
       "        vertical-align: middle;\n",
       "    }\n",
       "\n",
       "    .dataframe tbody tr th {\n",
       "        vertical-align: top;\n",
       "    }\n",
       "\n",
       "    .dataframe thead th {\n",
       "        text-align: right;\n",
       "    }\n",
       "</style>\n",
       "<table border=\"1\" class=\"dataframe\">\n",
       "  <thead>\n",
       "    <tr style=\"text-align: right;\">\n",
       "      <th></th>\n",
       "      <th>Metric</th>\n",
       "      <th>Score</th>\n",
       "    </tr>\n",
       "  </thead>\n",
       "  <tbody>\n",
       "    <tr>\n",
       "      <th>0</th>\n",
       "      <td>MSE</td>\n",
       "      <td>10.765837</td>\n",
       "    </tr>\n",
       "    <tr>\n",
       "      <th>1</th>\n",
       "      <td>RMSE</td>\n",
       "      <td>3.281134</td>\n",
       "    </tr>\n",
       "    <tr>\n",
       "      <th>2</th>\n",
       "      <td>MAE</td>\n",
       "      <td>2.458336</td>\n",
       "    </tr>\n",
       "    <tr>\n",
       "      <th>3</th>\n",
       "      <td>MAPE</td>\n",
       "      <td>Profit_10000s_$    181.008898\n",
       "dtype: float64</td>\n",
       "    </tr>\n",
       "    <tr>\n",
       "      <th>4</th>\n",
       "      <td>r2</td>\n",
       "      <td>0.658586</td>\n",
       "    </tr>\n",
       "    <tr>\n",
       "      <th>5</th>\n",
       "      <td>adj_r2</td>\n",
       "      <td>0.658586</td>\n",
       "    </tr>\n",
       "  </tbody>\n",
       "</table>\n",
       "</div>"
      ],
      "text/plain": [
       "   Metric                                         Score\n",
       "0     MSE                                     10.765837\n",
       "1    RMSE                                      3.281134\n",
       "2     MAE                                      2.458336\n",
       "3    MAPE  Profit_10000s_$    181.008898\n",
       "dtype: float64\n",
       "4      r2                                      0.658586\n",
       "5  adj_r2                                      0.658586"
      ]
     },
     "execution_count": 92,
     "metadata": {},
     "output_type": "execute_result"
    }
   ],
   "source": [
    "results = [MSE, RMSE, MAE, MAPE, R2, adj_r2]\n",
    "metrics = ['MSE', 'RMSE', 'MAE', 'MAPE', 'r2', 'adj_r2']\n",
    "\n",
    "table_results = pd.DataFrame({'Metric': metrics, 'Score': results})\n",
    "table_results"
   ]
  },
  {
   "cell_type": "markdown",
   "id": "1a23809a",
   "metadata": {},
   "source": [
    "The best metric for the evaluting model would be the MAE as it gives the score in the same unit as the attribute and is least affected by outliers"
   ]
  }
 ],
 "metadata": {
  "kernelspec": {
   "display_name": "Python 3 (ipykernel)",
   "language": "python",
   "name": "python3"
  },
  "language_info": {
   "codemirror_mode": {
    "name": "ipython",
    "version": 3
   },
   "file_extension": ".py",
   "mimetype": "text/x-python",
   "name": "python",
   "nbconvert_exporter": "python",
   "pygments_lexer": "ipython3",
   "version": "3.9.13"
  }
 },
 "nbformat": 4,
 "nbformat_minor": 5
}
