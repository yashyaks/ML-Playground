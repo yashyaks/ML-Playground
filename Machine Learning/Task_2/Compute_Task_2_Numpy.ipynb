{
  "cells": [
    {
      "cell_type": "markdown",
      "metadata": {
        "id": "X7z3U2pxCAvN"
      },
      "source": [
        "#### Import NumPy "
      ]
    },
    {
      "cell_type": "code",
      "execution_count": null,
      "metadata": {
        "collapsed": true,
        "id": "jusgfjcDCAvN"
      },
      "outputs": [],
      "source": [
        "import numpy as np"
      ]
    },
    {
      "cell_type": "markdown",
      "metadata": {
        "id": "5qcAR8--CAvN"
      },
      "source": [
        "#### Create an array of 10 zeros "
      ]
    },
    {
      "cell_type": "code",
      "execution_count": null,
      "metadata": {
        "id": "xmEjfwcGCAvO",
        "outputId": "67cb11c2-d3c1-4fbc-fbf0-4a479fa8b46e",
        "colab": {
          "base_uri": "https://localhost:8080/"
        }
      },
      "outputs": [
        {
          "output_type": "stream",
          "name": "stdout",
          "text": [
            "[0. 0. 0. 0. 0. 0. 0. 0. 0. 0.]\n"
          ]
        }
      ],
      "source": [
        "a = np.zeros(10)\n",
        "print(a)"
      ]
    },
    {
      "cell_type": "markdown",
      "metadata": {
        "id": "-sJqSut2CAvO"
      },
      "source": [
        "#### Create an array of 10 ones"
      ]
    },
    {
      "cell_type": "code",
      "execution_count": null,
      "metadata": {
        "id": "hecGx7cECAvO",
        "outputId": "4e1eb99a-8dae-45a4-db7b-b5d7ae4ab54f",
        "colab": {
          "base_uri": "https://localhost:8080/"
        }
      },
      "outputs": [
        {
          "output_type": "stream",
          "name": "stdout",
          "text": [
            "[1. 1. 1. 1. 1. 1. 1. 1. 1. 1.]\n"
          ]
        }
      ],
      "source": [
        "a = np.ones(10)\n",
        "print(a)"
      ]
    },
    {
      "cell_type": "markdown",
      "metadata": {
        "id": "ARYEHlU5CAvO"
      },
      "source": [
        "#### Create an array of 10 fives"
      ]
    },
    {
      "cell_type": "code",
      "execution_count": null,
      "metadata": {
        "id": "y-1rWnr7CAvP"
      },
      "outputs": [],
      "source": [
        "a = np.ones(10)*5"
      ]
    },
    {
      "cell_type": "markdown",
      "metadata": {
        "id": "7IROlwxJCAvP"
      },
      "source": [
        "#### Create an array of the integers from 10 to 50 -!del!-"
      ]
    },
    {
      "cell_type": "code",
      "execution_count": null,
      "metadata": {
        "id": "UFwQhJT8CAvP",
        "outputId": "f8b90865-0b9a-4f72-efdf-e24290f284ca",
        "colab": {
          "base_uri": "https://localhost:8080/"
        }
      },
      "outputs": [
        {
          "output_type": "stream",
          "name": "stdout",
          "text": [
            "[10, 11, 12, 13, 14, 15, 16, 17, 18, 19, 20, 21, 22, 23, 24, 25, 26, 27, 28, 29, 30, 31, 32, 33, 34, 35, 36, 37, 38, 39, 40, 41, 42, 43, 44, 45, 46, 47, 48, 49, 50]\n"
          ]
        }
      ],
      "source": [
        "a = []\n",
        "for i in range(10,51):\n",
        "  a.append(i)\n",
        "print(a)\n"
      ]
    },
    {
      "cell_type": "markdown",
      "metadata": {
        "id": "wxoKdt6aCAvP"
      },
      "source": [
        "#### Create an array of all the even integers from 10 to 50  -!del!-"
      ]
    },
    {
      "cell_type": "code",
      "execution_count": null,
      "metadata": {
        "id": "7Ix-9XyZCAvP",
        "outputId": "547a6e19-56cb-46d7-f835-e75b51d45721",
        "colab": {
          "base_uri": "https://localhost:8080/"
        }
      },
      "outputs": [
        {
          "output_type": "stream",
          "name": "stdout",
          "text": [
            "[10, 12, 14, 16, 18, 20, 22, 24, 26, 28, 30, 32, 34, 36, 38, 40, 42, 44, 46, 48, 50]\n"
          ]
        }
      ],
      "source": [
        "a = []\n",
        "for i in range(10,51,2):\n",
        "  a.append(i)\n",
        "print(a)"
      ]
    },
    {
      "cell_type": "markdown",
      "metadata": {
        "id": "0jPx7PpWCAvP"
      },
      "source": [
        "#### Create a 3x3 matrix with values ranging from 0 to 8"
      ]
    },
    {
      "cell_type": "code",
      "execution_count": 29,
      "metadata": {
        "id": "vLtfhOdwCAvP",
        "outputId": "0c98c514-62cb-4dd8-9429-b80835c397d6",
        "colab": {
          "base_uri": "https://localhost:8080/"
        }
      },
      "outputs": [
        {
          "output_type": "stream",
          "name": "stdout",
          "text": [
            "[[0 1 2]\n",
            " [3 4 5]\n",
            " [6 7 8]]\n"
          ]
        }
      ],
      "source": [
        "a = np.arange(0,9).reshape(3,3)\n",
        "print(a)"
      ]
    },
    {
      "cell_type": "markdown",
      "metadata": {
        "id": "JcO95k-XCAvQ"
      },
      "source": [
        "#### Create a 3x3 identity matrix"
      ]
    },
    {
      "cell_type": "code",
      "execution_count": null,
      "metadata": {
        "id": "JPVEIdl3CAvQ",
        "outputId": "75bfe7bb-400b-45aa-a1ea-c29e5f523747",
        "colab": {
          "base_uri": "https://localhost:8080/"
        }
      },
      "outputs": [
        {
          "output_type": "stream",
          "name": "stdout",
          "text": [
            "[[1. 0. 0.]\n",
            " [0. 1. 0.]\n",
            " [0. 0. 1.]]\n"
          ]
        }
      ],
      "source": [
        "a = np.identity(3)\n",
        "print(a)"
      ]
    },
    {
      "cell_type": "markdown",
      "metadata": {
        "id": "Sn7Hj9KyCAvQ"
      },
      "source": [
        "#### Use NumPy to generate a random number between 0 and 1  -!del!-"
      ]
    },
    {
      "cell_type": "code",
      "execution_count": null,
      "metadata": {
        "id": "jjB53PpTCAvQ",
        "outputId": "3508176a-73d2-4267-ab20-867623d915f7",
        "colab": {
          "base_uri": "https://localhost:8080/",
          "height": 165
        }
      },
      "outputs": [
        {
          "output_type": "error",
          "ename": "TypeError",
          "evalue": "ignored",
          "traceback": [
            "\u001b[0;31m---------------------------------------------------------------------------\u001b[0m",
            "\u001b[0;31mTypeError\u001b[0m                                 Traceback (most recent call last)",
            "\u001b[0;32m<ipython-input-14-2dfb78971f77>\u001b[0m in \u001b[0;36m<module>\u001b[0;34m\u001b[0m\n\u001b[0;32m----> 1\u001b[0;31m \u001b[0ma\u001b[0m \u001b[0;34m=\u001b[0m \u001b[0mnp\u001b[0m\u001b[0;34m.\u001b[0m\u001b[0mrandom\u001b[0m\u001b[0;34m(\u001b[0m\u001b[0;36m0\u001b[0m\u001b[0;34m,\u001b[0m\u001b[0;36m1\u001b[0m\u001b[0;34m)\u001b[0m\u001b[0;34m\u001b[0m\u001b[0;34m\u001b[0m\u001b[0m\n\u001b[0m",
            "\u001b[0;31mTypeError\u001b[0m: 'module' object is not callable"
          ]
        }
      ],
      "source": [
        "a = np.random(0,1)\n"
      ]
    },
    {
      "cell_type": "markdown",
      "metadata": {
        "id": "xAn14oziCAvQ"
      },
      "source": [
        "#### Use NumPy to generate an array of 25 random numbers sampled from a standard normal distribution"
      ]
    },
    {
      "cell_type": "code",
      "execution_count": null,
      "metadata": {
        "id": "MIeS99CiCAvQ"
      },
      "outputs": [],
      "source": []
    },
    {
      "cell_type": "markdown",
      "metadata": {
        "id": "LbRgd6OyCAvQ"
      },
      "source": [
        "#### Create the following matrix: -!del!-"
      ]
    },
    {
      "cell_type": "code",
      "execution_count": null,
      "metadata": {
        "id": "AENeDra9CAvR"
      },
      "outputs": [],
      "source": []
    },
    {
      "cell_type": "markdown",
      "metadata": {
        "id": "QBZWHYOFCAvR"
      },
      "source": [
        "#### Create an array of 20 linearly spaced points between 0 and 1: "
      ]
    },
    {
      "cell_type": "code",
      "execution_count": null,
      "metadata": {
        "id": "3ra8KFjgCAvR"
      },
      "outputs": [],
      "source": []
    },
    {
      "cell_type": "markdown",
      "metadata": {
        "id": "WDFRH7mRCAvR"
      },
      "source": [
        "## Numpy Indexing and Selection\n",
        "\n",
        "Now you will be given a few matrices, and be asked to replicate the resulting matrix outputs:"
      ]
    },
    {
      "cell_type": "code",
      "execution_count": null,
      "metadata": {
        "id": "B_2McpqmCAvR",
        "outputId": "61d9d28f-3968-4511-e198-855a8197344a",
        "colab": {
          "base_uri": "https://localhost:8080/"
        }
      },
      "outputs": [
        {
          "output_type": "execute_result",
          "data": {
            "text/plain": [
              "array([[ 1,  2,  3,  4,  5],\n",
              "       [ 6,  7,  8,  9, 10],\n",
              "       [11, 12, 13, 14, 15],\n",
              "       [16, 17, 18, 19, 20],\n",
              "       [21, 22, 23, 24, 25]])"
            ]
          },
          "metadata": {},
          "execution_count": 15
        }
      ],
      "source": [
        "mat = np.arange(1,26).reshape(5,5)\n",
        "mat"
      ]
    },
    {
      "cell_type": "code",
      "execution_count": null,
      "metadata": {
        "collapsed": true,
        "id": "oxyloFWDCAvR"
      },
      "outputs": [],
      "source": [
        "# WRITE CODE HERE THAT REPRODUCES THE OUTPUT OF THE CELL BELOW\n",
        "# BE CAREFUL NOT TO RUN THE CELL BELOW, OTHERWISE YOU WON'T\n",
        "# BE ABLE TO SEE THE OUTPUT ANY MORE"
      ]
    },
    {
      "cell_type": "code",
      "execution_count": 30,
      "metadata": {
        "id": "V_GnVZsBCAvR",
        "colab": {
          "base_uri": "https://localhost:8080/",
          "height": 165
        },
        "outputId": "beecf497-f2e0-405d-cc3c-ea755a94647c"
      },
      "outputs": [
        {
          "output_type": "error",
          "ename": "ValueError",
          "evalue": "ignored",
          "traceback": [
            "\u001b[0;31m---------------------------------------------------------------------------\u001b[0m",
            "\u001b[0;31mValueError\u001b[0m                                Traceback (most recent call last)",
            "\u001b[0;32m<ipython-input-30-bd2b1364db7e>\u001b[0m in \u001b[0;36m<module>\u001b[0;34m\u001b[0m\n\u001b[0;32m----> 1\u001b[0;31m \u001b[0ma\u001b[0m \u001b[0;34m=\u001b[0m \u001b[0mnp\u001b[0m\u001b[0;34m.\u001b[0m\u001b[0marange\u001b[0m\u001b[0;34m(\u001b[0m\u001b[0;36m12\u001b[0m\u001b[0;34m,\u001b[0m\u001b[0;36m25\u001b[0m\u001b[0;34m)\u001b[0m\u001b[0;34m.\u001b[0m\u001b[0mreshape\u001b[0m\u001b[0;34m(\u001b[0m\u001b[0;36m3\u001b[0m\u001b[0;34m,\u001b[0m\u001b[0;36m3\u001b[0m\u001b[0;34m)\u001b[0m\u001b[0;34m\u001b[0m\u001b[0;34m\u001b[0m\u001b[0m\n\u001b[0m",
            "\u001b[0;31mValueError\u001b[0m: cannot reshape array of size 13 into shape (3,3)"
          ]
        }
      ],
      "source": [
        "a = np.arange(12,25).reshape(3,3)"
      ]
    },
    {
      "cell_type": "code",
      "execution_count": null,
      "metadata": {
        "collapsed": true,
        "id": "OE0SKA7bCAvS"
      },
      "outputs": [],
      "source": [
        "# WRITE CODE HERE THAT REPRODUCES THE OUTPUT OF THE CELL BELOW\n",
        "# BE CAREFUL NOT TO RUN THE CELL BELOW, OTHERWISE YOU WON'T\n",
        "# BE ABLE TO SEE THE OUTPUT ANY MORE"
      ]
    },
    {
      "cell_type": "code",
      "execution_count": 20,
      "metadata": {
        "id": "M9CB9jd2CAvS",
        "colab": {
          "base_uri": "https://localhost:8080/"
        },
        "outputId": "edcd0cfc-e026-4b33-a2b0-1d8d1e0bc0d7"
      },
      "outputs": [
        {
          "output_type": "stream",
          "name": "stdout",
          "text": [
            "20\n"
          ]
        }
      ],
      "source": [
        "a = 20\n",
        "print(a)"
      ]
    },
    {
      "cell_type": "code",
      "execution_count": null,
      "metadata": {
        "collapsed": true,
        "id": "5qPTLISjCAvS"
      },
      "outputs": [],
      "source": [
        "# WRITE CODE HERE THAT REPRODUCES THE OUTPUT OF THE CELL BELOW\n",
        "# BE CAREFUL NOT TO RUN THE CELL BELOW, OTHERWISE YOU WON'T\n",
        "# BE ABLE TO SEE THE OUTPUT ANY MORE"
      ]
    },
    {
      "cell_type": "code",
      "execution_count": null,
      "metadata": {
        "id": "6wT06ZgHCAvS"
      },
      "outputs": [],
      "source": []
    },
    {
      "cell_type": "code",
      "execution_count": null,
      "metadata": {
        "collapsed": true,
        "id": "rQr3hBL6CAvS"
      },
      "outputs": [],
      "source": [
        "# WRITE CODE HERE THAT REPRODUCES THE OUTPUT OF THE CELL BELOW\n",
        "# BE CAREFUL NOT TO RUN THE CELL BELOW, OTHERWISE YOU WON'T\n",
        "# BE ABLE TO SEE THE OUTPUT ANY MORE"
      ]
    },
    {
      "cell_type": "code",
      "execution_count": 23,
      "metadata": {
        "id": "C1VdxOrTCAvS",
        "colab": {
          "base_uri": "https://localhost:8080/"
        },
        "outputId": "7382d47b-e0b7-46c6-a596-8d69fac2fde6"
      },
      "outputs": [
        {
          "output_type": "stream",
          "name": "stdout",
          "text": [
            "[21 22 23 24 25]\n"
          ]
        }
      ],
      "source": [
        "a = np.arange(21,26)\n",
        "print(a)"
      ]
    },
    {
      "cell_type": "code",
      "execution_count": null,
      "metadata": {
        "collapsed": true,
        "id": "ZRQgDH79CAvS"
      },
      "outputs": [],
      "source": [
        "# WRITE CODE HERE THAT REPRODUCES THE OUTPUT OF THE CELL BELOW\n",
        "# BE CAREFUL NOT TO RUN THE CELL BELOW, OTHERWISE YOU WON'T\n",
        "# BE ABLE TO SEE THE OUTPUT ANY MORE"
      ]
    },
    {
      "cell_type": "code",
      "execution_count": 33,
      "metadata": {
        "id": "0fhU2bu7CAvT",
        "colab": {
          "base_uri": "https://localhost:8080/"
        },
        "outputId": "8d371c85-258f-45b5-86e2-cbc22096f550"
      },
      "outputs": [
        {
          "output_type": "execute_result",
          "data": {
            "text/plain": [
              "array([[16, 17, 18, 19, 20],\n",
              "       [21, 22, 23, 24, 25]])"
            ]
          },
          "metadata": {},
          "execution_count": 33
        }
      ],
      "source": [
        "a = np.arange(16,26).reshape(2,5)\n",
        "a"
      ]
    },
    {
      "cell_type": "markdown",
      "metadata": {
        "id": "Ih6-cRw_CAvT"
      },
      "source": [
        "### Now do the following"
      ]
    },
    {
      "cell_type": "markdown",
      "metadata": {
        "id": "Mi-WfNJOCAvT"
      },
      "source": [
        "#### Get the sum of all the values in mat"
      ]
    },
    {
      "cell_type": "code",
      "execution_count": 34,
      "metadata": {
        "id": "T6SjcnWPCAvT",
        "colab": {
          "base_uri": "https://localhost:8080/"
        },
        "outputId": "09bedef4-c3dd-49fe-86bb-44a38528b934"
      },
      "outputs": [
        {
          "output_type": "stream",
          "name": "stdout",
          "text": [
            "325\n"
          ]
        }
      ],
      "source": [
        "a = ([0,325],[0,0])\n",
        "print(np.sum(a))"
      ]
    },
    {
      "cell_type": "markdown",
      "metadata": {
        "id": "PwZD2RewCAvT"
      },
      "source": [
        "#### Get the standard deviation of the values in mat"
      ]
    },
    {
      "cell_type": "code",
      "execution_count": 35,
      "metadata": {
        "id": "MxnOj36BCAvT",
        "colab": {
          "base_uri": "https://localhost:8080/"
        },
        "outputId": "6da49cf9-09ee-42a5-ec99-b87c70b3737d"
      },
      "outputs": [
        {
          "output_type": "stream",
          "name": "stdout",
          "text": [
            "140.72912811497127\n"
          ]
        }
      ],
      "source": [
        "a = ([0,325],[0,0])\n",
        "print(np.std(a))"
      ]
    },
    {
      "cell_type": "markdown",
      "metadata": {
        "id": "zO38BgXWCAvU"
      },
      "source": [
        "#### Get the sum of all the columns in mat"
      ]
    },
    {
      "cell_type": "code",
      "execution_count": 39,
      "metadata": {
        "id": "BBJ0PLt5CAvU",
        "colab": {
          "base_uri": "https://localhost:8080/"
        },
        "outputId": "27c080b5-67a5-4ed7-942d-4da31f9935f7"
      },
      "outputs": [
        {
          "output_type": "stream",
          "name": "stdout",
          "text": [
            "[  0 326]\n"
          ]
        }
      ],
      "source": [
        "a = ([0,325],[0,1])\n",
        "print(np.sum(a,axis=0))"
      ]
    },
    {
      "cell_type": "markdown",
      "source": [
        "#### Multiply two matrices using NumPy.\n",
        "\n",
        "A = [[1, 2], [2, 3]]\n",
        "\n",
        "B = [[4, 5], [6, 7]]\n",
        "\n",
        "So, A.B = [[1*4 + 2*6, 2*4 + 3*6], [1*5 + 2*7, 2*5 + 3*7]\n",
        "\n",
        "The computed answer will be: [[16, 26], [19, 31]]\n"
      ],
      "metadata": {
        "id": "AmoYw9QoljOW"
      }
    },
    {
      "cell_type": "code",
      "source": [
        "A = ([1, 2], [2, 3])\n",
        "B = ([4, 5], [6, 7])\n",
        "\n",
        "result = np.dot(A,B)\n",
        "print(result)"
      ],
      "metadata": {
        "id": "TlwnfZgYlzsQ",
        "colab": {
          "base_uri": "https://localhost:8080/"
        },
        "outputId": "bd0c2235-a9fe-4e46-e2db-3f4d5fcaa2c8"
      },
      "execution_count": 45,
      "outputs": [
        {
          "output_type": "stream",
          "name": "stdout",
          "text": [
            "[[16 19]\n",
            " [26 31]]\n"
          ]
        }
      ]
    },
    {
      "cell_type": "markdown",
      "source": [
        "####Replace NaN values with average of that column\n",
        "\n",
        "Initial array :  \n",
        "\n",
        "[[ 1.3  2.5  3.6  nan]\n",
        " [ 2.6  3.3  nan  5.5]\n",
        " [ 2.1  3.2  5.4  6.5]]\n"
      ],
      "metadata": {
        "id": "0bNmuR33mE10"
      }
    },
    {
      "cell_type": "code",
      "source": [
        "#pandas?\n",
        "import pandas as pd\n",
        "#a = [[ 1.3, 2.5, 3.6, np.nan] [ 2.6, 3.3, np.nan, 5.5] [ 2.1, 3.2, 5.4, 6.5]]\n",
        "df = pd.DataFrame(\n",
        "     [[ 1.3, 2.5, 3.6, np.nan], [ 2.6, 3.3, np.nan, 5.5], [ 2.1, 3.2, 5.4, 6.5]]\n",
        ")\n",
        "\n",
        "df.fillna(value=df.mean())\n",
        "print(df)\n"
      ],
      "metadata": {
        "id": "2lXzmm6EmRwN",
        "colab": {
          "base_uri": "https://localhost:8080/"
        },
        "outputId": "9bee4102-c321-44d0-d2d3-30399de15432"
      },
      "execution_count": 55,
      "outputs": [
        {
          "output_type": "stream",
          "name": "stdout",
          "text": [
            "     0    1    2    3\n",
            "0  1.3  2.5  3.6  NaN\n",
            "1  2.6  3.3  NaN  5.5\n",
            "2  2.1  3.2  5.4  6.5\n"
          ]
        }
      ]
    },
    {
      "cell_type": "markdown",
      "metadata": {
        "collapsed": true,
        "id": "GiRsFFT_CAvU"
      },
      "source": [
        "# You're done!"
      ]
    }
  ],
  "metadata": {
    "kernelspec": {
      "display_name": "Python 3",
      "language": "python",
      "name": "python3"
    },
    "language_info": {
      "codemirror_mode": {
        "name": "ipython",
        "version": 3
      },
      "file_extension": ".py",
      "mimetype": "text/x-python",
      "name": "python",
      "nbconvert_exporter": "python",
      "pygments_lexer": "ipython3",
      "version": "3.5.1"
    },
    "colab": {
      "provenance": [],
      "collapsed_sections": []
    }
  },
  "nbformat": 4,
  "nbformat_minor": 0
}