{
 "cells": [
  {
   "cell_type": "markdown",
   "metadata": {
    "id": "XbA5XjSilR4j"
   },
   "source": [
    "# Linear Regression\n",
    "Implementing Linear Regression for predicting profit of a food truck given the population and profits of different cities\n"
   ]
  },
  {
   "cell_type": "code",
   "execution_count": 1,
   "metadata": {
    "id": "5_cw35relJgl"
   },
   "outputs": [],
   "source": [
    "import os\n",
    "import pandas as pd\n",
    "import numpy as np\n",
    "import matplotlib.pyplot as plt\n",
    "%matplotlib inline\n",
    "import math"
   ]
  },
  {
   "cell_type": "markdown",
   "metadata": {
    "id": "36GyLOkigQAq"
   },
   "source": [
    "in dataset both the column has values in multiple of 10k"
   ]
  },
  {
   "cell_type": "markdown",
   "metadata": {
    "id": "6WCVaXe8lll3"
   },
   "source": [
    "### Reading the dataset"
   ]
  },
  {
   "cell_type": "code",
   "execution_count": 2,
   "metadata": {
    "id": "i4huSnTRloPT"
   },
   "outputs": [],
   "source": [
    "df = pd.read_csv('Data1.txt',names = ['Population_10000s', 'Profit_10000s'])"
   ]
  },
  {
   "cell_type": "code",
   "execution_count": 3,
   "metadata": {},
   "outputs": [],
   "source": [
    "df=pd.read_table('Data1.txt', delimiter = ',',names = ['Population_10000s', 'Profit_10000s'])"
   ]
  },
  {
   "cell_type": "code",
   "execution_count": 4,
   "metadata": {
    "id": "JgiJnNwDlpRM"
   },
   "outputs": [
    {
     "data": {
      "text/html": [
       "<div>\n",
       "<style scoped>\n",
       "    .dataframe tbody tr th:only-of-type {\n",
       "        vertical-align: middle;\n",
       "    }\n",
       "\n",
       "    .dataframe tbody tr th {\n",
       "        vertical-align: top;\n",
       "    }\n",
       "\n",
       "    .dataframe thead th {\n",
       "        text-align: right;\n",
       "    }\n",
       "</style>\n",
       "<table border=\"1\" class=\"dataframe\">\n",
       "  <thead>\n",
       "    <tr style=\"text-align: right;\">\n",
       "      <th></th>\n",
       "      <th>Population_10000s</th>\n",
       "      <th>Profit_10000s</th>\n",
       "    </tr>\n",
       "  </thead>\n",
       "  <tbody>\n",
       "    <tr>\n",
       "      <th>0</th>\n",
       "      <td>6.1101</td>\n",
       "      <td>17.59200</td>\n",
       "    </tr>\n",
       "    <tr>\n",
       "      <th>1</th>\n",
       "      <td>5.5277</td>\n",
       "      <td>9.13020</td>\n",
       "    </tr>\n",
       "    <tr>\n",
       "      <th>2</th>\n",
       "      <td>8.5186</td>\n",
       "      <td>13.66200</td>\n",
       "    </tr>\n",
       "    <tr>\n",
       "      <th>3</th>\n",
       "      <td>7.0032</td>\n",
       "      <td>11.85400</td>\n",
       "    </tr>\n",
       "    <tr>\n",
       "      <th>4</th>\n",
       "      <td>5.8598</td>\n",
       "      <td>6.82330</td>\n",
       "    </tr>\n",
       "    <tr>\n",
       "      <th>...</th>\n",
       "      <td>...</td>\n",
       "      <td>...</td>\n",
       "    </tr>\n",
       "    <tr>\n",
       "      <th>92</th>\n",
       "      <td>5.8707</td>\n",
       "      <td>7.20290</td>\n",
       "    </tr>\n",
       "    <tr>\n",
       "      <th>93</th>\n",
       "      <td>5.3054</td>\n",
       "      <td>1.98690</td>\n",
       "    </tr>\n",
       "    <tr>\n",
       "      <th>94</th>\n",
       "      <td>8.2934</td>\n",
       "      <td>0.14454</td>\n",
       "    </tr>\n",
       "    <tr>\n",
       "      <th>95</th>\n",
       "      <td>13.3940</td>\n",
       "      <td>9.05510</td>\n",
       "    </tr>\n",
       "    <tr>\n",
       "      <th>96</th>\n",
       "      <td>5.4369</td>\n",
       "      <td>0.61705</td>\n",
       "    </tr>\n",
       "  </tbody>\n",
       "</table>\n",
       "<p>97 rows × 2 columns</p>\n",
       "</div>"
      ],
      "text/plain": [
       "    Population_10000s  Profit_10000s\n",
       "0              6.1101       17.59200\n",
       "1              5.5277        9.13020\n",
       "2              8.5186       13.66200\n",
       "3              7.0032       11.85400\n",
       "4              5.8598        6.82330\n",
       "..                ...            ...\n",
       "92             5.8707        7.20290\n",
       "93             5.3054        1.98690\n",
       "94             8.2934        0.14454\n",
       "95            13.3940        9.05510\n",
       "96             5.4369        0.61705\n",
       "\n",
       "[97 rows x 2 columns]"
      ]
     },
     "execution_count": 4,
     "metadata": {},
     "output_type": "execute_result"
    }
   ],
   "source": [
    "df"
   ]
  },
  {
   "cell_type": "markdown",
   "metadata": {
    "id": "-utpyHE8l8XX"
   },
   "source": [
    "### Scatter plot of Population vs Profit"
   ]
  },
  {
   "cell_type": "code",
   "execution_count": 5,
   "metadata": {
    "id": "WU2e_EBIl7nO"
   },
   "outputs": [
    {
     "data": {
      "image/png": "[encoded data removed]",
      "text/plain": [
       "<Figure size 640x480 with 1 Axes>"
      ]
     },
     "metadata": {},
     "output_type": "display_data"
    }
   ],
   "source": [
    "plt.scatter(df['Population_10000s'],df['Profit_10000s'])\n",
    "plt.xlabel('Population in 10000s')\n",
    "plt.ylabel('Profit in 10000 $')\n",
    "plt.show()"
   ]
  },
  {
   "cell_type": "markdown",
   "metadata": {
    "id": "iGFXAq_YoWZq"
   },
   "source": [
    "### Function to compute the cost function "
   ]
  },
  {
   "cell_type": "code",
   "execution_count": 6,
   "metadata": {
    "id": "_8d1sdJmoVGb"
   },
   "outputs": [],
   "source": [
    "### Function to compute the cost function "
   ]
  },
  {
   "cell_type": "code",
   "execution_count": 7,
   "metadata": {
    "id": "Az8pJnBMoa1N"
   },
   "outputs": [],
   "source": [
    "def computeCost(x, y, theta):\n",
    "    #MSE ka formula\n",
    "    inner_product = np.power(((X * theta.T) - y) , 2)\n",
    "    return np.sum(inner_product) / (2 * len(X))\n"
   ]
  },
  {
   "cell_type": "markdown",
   "metadata": {
    "id": "v31Nvikf2xYm"
   },
   "source": [
    "### Appending 1s to the front of the dataset"
   ]
  },
  {
   "cell_type": "code",
   "execution_count": 8,
   "metadata": {
    "id": "XQlQ0VvR23gJ"
   },
   "outputs": [
    {
     "name": "stdout",
     "output_type": "stream",
     "text": [
      "    ones  Population_10000s  Profit_10000s\n",
      "0    1.0             6.1101       17.59200\n",
      "1    1.0             5.5277        9.13020\n",
      "2    1.0             8.5186       13.66200\n",
      "3    1.0             7.0032       11.85400\n",
      "4    1.0             5.8598        6.82330\n",
      "..   ...                ...            ...\n",
      "92   1.0             5.8707        7.20290\n",
      "93   1.0             5.3054        1.98690\n",
      "94   1.0             8.2934        0.14454\n",
      "95   1.0            13.3940        9.05510\n",
      "96   1.0             5.4369        0.61705\n",
      "\n",
      "[97 rows x 3 columns]\n"
     ]
    }
   ],
   "source": [
    "#insert column with 1s\n",
    "a = []\n",
    "a = np.ones(len(df)).tolist()\n",
    "ones = pd.DataFrame(a)\n",
    "\n",
    "df.insert (0, \"ones\", a)\n",
    "print(df)"
   ]
  },
  {
   "cell_type": "markdown",
   "metadata": {
    "id": "HQbvSZFcsExq"
   },
   "source": [
    "### Set training data (X) and target variable (y)"
   ]
  },
  {
   "cell_type": "code",
   "execution_count": 48,
   "metadata": {
    "id": "WVCVPoznsMms"
   },
   "outputs": [
    {
     "name": "stdout",
     "output_type": "stream",
     "text": [
      "    Population_10000s\n",
      "0              6.1101\n",
      "1              5.5277\n",
      "2              8.5186\n",
      "3              7.0032\n",
      "4              5.8598\n",
      "..                ...\n",
      "92             5.8707\n",
      "93             5.3054\n",
      "94             8.2934\n",
      "95            13.3940\n",
      "96             5.4369\n",
      "\n",
      "[97 rows x 1 columns]\n",
      "    Profit_10000s\n",
      "0        17.59200\n",
      "1         9.13020\n",
      "2        13.66200\n",
      "3        11.85400\n",
      "4         6.82330\n",
      "..            ...\n",
      "92        7.20290\n",
      "93        1.98690\n",
      "94        0.14454\n",
      "95        9.05510\n",
      "96        0.61705\n",
      "\n",
      "[97 rows x 1 columns]\n"
     ]
    }
   ],
   "source": [
    "x = df[['Population_10000s']]\n",
    "y = df[['Profit_10000s']]\n",
    "\n",
    "print(x)\n",
    "print(y)"
   ]
  },
  {
   "cell_type": "markdown",
   "metadata": {
    "id": "bY6E4Mc2sSSC"
   },
   "source": [
    "### Converting dataframe to numpy matrices and creating a parameter (theta) matrix"
   ]
  },
  {
   "cell_type": "code",
   "execution_count": 49,
   "metadata": {
    "id": "qr-CsrRAsV0_"
   },
   "outputs": [
    {
     "name": "stdout",
     "output_type": "stream",
     "text": [
      "x_array =  [ 6.1101  5.5277  8.5186  7.0032  5.8598  8.3829  7.4764  8.5781  6.4862\n",
      "  5.0546  5.7107 14.164   5.734   8.4084  5.6407  5.3794  6.3654  5.1301\n",
      "  6.4296  7.0708  6.1891 20.27    5.4901  6.3261  5.5649 18.945  12.828\n",
      " 10.957  13.176  22.203   5.2524  6.5894  9.2482  5.8918  8.2111  7.9334\n",
      "  8.0959  5.6063 12.836   6.3534  5.4069  6.8825 11.708   5.7737  7.8247\n",
      "  7.0931  5.0702  5.8014 11.7     5.5416  7.5402  5.3077  7.4239  7.6031\n",
      "  6.3328  6.3589  6.2742  5.6397  9.3102  9.4536  8.8254  5.1793 21.279\n",
      " 14.908  18.959   7.2182  8.2951 10.236   5.4994 20.341  10.136   7.3345\n",
      "  6.0062  7.2259  5.0269  6.5479  7.5386  5.0365 10.274   5.1077  5.7292\n",
      "  5.1884  6.3557  9.7687  6.5159  8.5172  9.1802  6.002   5.5204  5.0594\n",
      "  5.7077  7.6366  5.8707  5.3054  8.2934 13.394   5.4369]\n",
      "\n",
      "y_array =  [17.592    9.1302  13.662   11.854    6.8233  11.886    4.3483  12.\n",
      "  6.5987   3.8166   3.2522  15.505    3.1551   7.2258   0.71618  3.5129\n",
      "  5.3048   0.56077  3.6518   5.3893   3.1386  21.767    4.263    5.1875\n",
      "  3.0825  22.638   13.501    7.0467  14.692   24.147   -1.22     5.9966\n",
      " 12.134    1.8495   6.5426   4.5623   4.1164   3.3928  10.117    5.4974\n",
      "  0.55657  3.9115   5.3854   2.4406   6.7318   1.0463   5.1337   1.844\n",
      "  8.0043   1.0179   6.7504   1.8396   4.2885   4.9981   1.4233  -1.4211\n",
      "  2.4756   4.6042   3.9624   5.4141   5.1694  -0.74279 17.929   12.054\n",
      " 17.054    4.8852   5.7442   7.7754   1.0173  20.992    6.6799   4.0259\n",
      "  1.2784   3.3411  -2.6807   0.29678  3.8845   5.7014   6.7526   2.0576\n",
      "  0.47953  0.20421  0.67861  7.5435   5.3436   4.2415   6.7981   0.92695\n",
      "  0.152    2.8214   1.8451   4.2959   7.2029   1.9869   0.14454  9.0551\n",
      "  0.61705]\n"
     ]
    }
   ],
   "source": [
    "#converting X,y into numpy matrix\n",
    "\n",
    "x_array = np.array(x.Population_10000s)\n",
    "print(\"x_array = \", x_array)\n",
    "print()\n",
    "y_array = np.array(y.Profit_10000s)\n",
    "print(\"y_array = \", y_array)"
   ]
  },
  {
   "cell_type": "markdown",
   "metadata": {
    "id": "cbfeP2qas_4o"
   },
   "source": [
    "### Function to perform gradient descent on parameters theta by repeatedly updating the parameters"
   ]
  },
  {
   "cell_type": "code",
   "execution_count": 84,
   "metadata": {
    "id": "_8mKXGk8tHKy"
   },
   "outputs": [],
   "source": [
    "def gradient_descent(x, y,iters,alpha):\n",
    "    # initial value of m and b\n",
    "    \n",
    "    # m is the slope of best fit line, here it is the variable m_curr\n",
    "    # b is the intercept of best fit line, here it is the variable b_curr\n",
    "    m_curr = b_curr = 0\n",
    "    \n",
    "    # initialize number of steps\n",
    "    iterations = iters\n",
    "    \n",
    "    # Number of data points n\n",
    "    n = len(x)\n",
    "    \n",
    "    # Initialize learning rate\n",
    "    learning_rate = alpha\n",
    "    \n",
    "    cost_previous = 0\n",
    "    c = []\n",
    "    for i in range(iterations):\n",
    "        y_pred = m_curr * x + b_curr   #y=mx+b\n",
    "        \n",
    "        # this can be replaced by  a cost fucntion which does the exact same thing\n",
    "        #cost = skm.mean_squared_error(y, y_pred)\n",
    "        cost = (1/n) * sum([val**2 for val in (y-y_pred)]) #this is cost fucntion(MSE) but calculated manually\n",
    "        \n",
    "        md = -(2/n)*sum(x*(y-y_pred))\n",
    "        bd = -(2/n)*sum(y-y_pred)\n",
    "        \n",
    "        m_curr = m_curr - learning_rate * md\n",
    "        # print(m_curr)\n",
    "        b_curr = b_curr - learning_rate * bd\n",
    "        # print(b_curr)\n",
    "         \n",
    "        # if statement for loop to exit when current cost is very close to previous cost\n",
    "        if math.isclose(cost, cost_previous, rel_tol=1e-20):\n",
    "            break\n",
    "            \n",
    "        cost_previous = cost\n",
    "        c.append(cost)\n",
    "    print(\"m = {}, b = {}, cost = {}, i = {}\".format(m_curr, b_curr, cost, i))\n",
    "    return cost,m_curr, b_curr,c,i"
   ]
  },
  {
   "cell_type": "markdown",
   "metadata": {
    "id": "Adv1nVcItTJs"
   },
   "source": [
    "### Set values for learning rate and number of iterations\n",
    "- alpha here denotes the learning rate that helps to determine how quickly the algorithm\n",
    "    will converge to the optimal solution\n",
    "- iters denotes the number of iterations"
   ]
  },
  {
   "cell_type": "code",
   "execution_count": 96,
   "metadata": {
    "id": "FBz7ob7vtRLr"
   },
   "outputs": [],
   "source": [
    "alpha = 0.001 \n",
    "iters = 100000\n",
    "\n",
    "#alpha and number of iterations are already set in the gradient_descent fuction"
   ]
  },
  {
   "cell_type": "code",
   "execution_count": 97,
   "metadata": {},
   "outputs": [
    {
     "name": "stdout",
     "output_type": "stream",
     "text": [
      "m = 1.1930327124787414, b = -3.8957716039439587, cost = 8.953942751966034, i = 35964\n",
      "35964\n"
     ]
    }
   ],
   "source": [
    "cost,m,b,c,i = gradient_descent(x_array, y_array,iters,alpha)\n",
    "print(i)"
   ]
  },
  {
   "cell_type": "markdown",
   "metadata": {
    "id": "W3HlzF5pt_0Z"
   },
   "source": [
    "\n",
    "\n",
    "\n",
    "### Using Matplotlib library to visualize our solution using scatter plot"
   ]
  },
  {
   "cell_type": "code",
   "execution_count": 98,
   "metadata": {},
   "outputs": [],
   "source": [
    "y_pred_gd = []\n",
    "for k in range(len(x_array)):\n",
    "    x = x_array[k]\n",
    "    y_pred_gd.append(x*m+b)"
   ]
  },
  {
   "cell_type": "code",
   "execution_count": 99,
   "metadata": {},
   "outputs": [
    {
     "data": {
      "text/plain": [
       "Text(0.5, 1.0, 'Predicted Profit vs. Population Size')"
      ]
     },
     "execution_count": 99,
     "metadata": {},
     "output_type": "execute_result"
    },
    {
     "data": {
      "image/png": "[encoded data removed]",
      "text/plain": [
       "<Figure size 640x480 with 1 Axes>"
      ]
     },
     "metadata": {},
     "output_type": "display_data"
    }
   ],
   "source": [
    "plt.plot(x_array, y_pred_gd, 'r', label='Prediction')\n",
    "\n",
    "plt.scatter(x_array, y_array, label='Testing Data')\n",
    "plt.xlabel('Population')  \n",
    "plt.ylabel('Profit')  \n",
    "plt.title('Predicted Profit vs. Population Size')"
   ]
  },
  {
   "cell_type": "code",
   "execution_count": 100,
   "metadata": {
    "id": "iaOPcKBtuG7v"
   },
   "outputs": [
    {
     "data": {
      "text/plain": [
       "Text(0, 0.5, 'Cost')"
      ]
     },
     "execution_count": 100,
     "metadata": {},
     "output_type": "execute_result"
    },
    {
     "data": {
      "image/png": "[encoded data removed]",
      "text/plain": [
       "<Figure size 640x480 with 1 Axes>"
      ]
     },
     "metadata": {},
     "output_type": "display_data"
    }
   ],
   "source": [
    "plt.plot(np.arange(i), c, 'r')\n",
    "plt.xlabel('Iterations')\n",
    "plt.ylabel('Cost')"
   ]
  },
  {
   "cell_type": "markdown",
   "metadata": {
    "id": "jgmRYwlXWEX4"
   },
   "source": [
    "SCIKIT LEARN IMPLEMENTATION\n",
    "\n",
    "-Implement various type of errors,\n",
    " eg.Mean squared error,R_squared_score\n",
    "choose best for the evaluting model,\n",
    "and justify why it is best\n"
   ]
  },
  {
   "cell_type": "code",
   "execution_count": 101,
   "metadata": {},
   "outputs": [],
   "source": [
    "from sklearn.linear_model import LinearRegression\n",
    "import sklearn.metrics as skm"
   ]
  },
  {
   "cell_type": "code",
   "execution_count": 102,
   "metadata": {},
   "outputs": [
    {
     "name": "stdout",
     "output_type": "stream",
     "text": [
      "Total # of sample in whole dataset: 97\n",
      "**************************************************\n",
      "Total # of sample in train dataset: 64\n",
      "Shape of x_train: (64, 1)\n",
      "**************************************************\n",
      "Total # of sample in test dataset: 33\n",
      "Shape of x_test: (33, 1)\n"
     ]
    }
   ],
   "source": [
    "from sklearn.model_selection import train_test_split\n",
    "\n",
    "x = df[['Population_10000s']]\n",
    "y = df[['Profit_10000s']]\n",
    "x_train, x_test, y_train, y_test = train_test_split(x, y, test_size = 1/3, random_state = 101)\n",
    "\n",
    "\n",
    "print(f'Total # of sample in whole dataset: {len(x)}')\n",
    "print(\"*****\"*10)\n",
    "print(f'Total # of sample in train dataset: {len(x_train)}')\n",
    "print(f'Shape of x_train: {x_train.shape}')\n",
    "print(\"*****\"*10)\n",
    "print(f'Total # of sample in test dataset: {len(x_test)}')\n",
    "print(f'Shape of x_test: {x_test.shape}')"
   ]
  },
  {
   "cell_type": "code",
   "execution_count": 103,
   "metadata": {
    "id": "_-Z2iJXUWDvk"
   },
   "outputs": [
    {
     "data": {
      "text/plain": [
       "LinearRegression()"
      ]
     },
     "execution_count": 103,
     "metadata": {},
     "output_type": "execute_result"
    }
   ],
   "source": [
    "#fit the model\n",
    "regressor = LinearRegression()\n",
    "regressor.fit(x_train,y_train)"
   ]
  },
  {
   "cell_type": "code",
   "execution_count": 104,
   "metadata": {
    "id": "EKb8ME-ma-ex"
   },
   "outputs": [],
   "source": [
    "#predict the target values\n",
    "y_pred = regressor.predict(x_test)"
   ]
  },
  {
   "cell_type": "code",
   "execution_count": 105,
   "metadata": {},
   "outputs": [
    {
     "data": {
      "image/png": "[encoded data removed]",
      "text/plain": [
       "<Figure size 640x480 with 1 Axes>"
      ]
     },
     "metadata": {},
     "output_type": "display_data"
    }
   ],
   "source": [
    "plt.scatter(x_train, y_train, color = 'blue',label = 'Training set Data')\n",
    "plt.plot(x_train, regressor.predict(x_train) , color = 'red',label = 'best-fit line/regression line')\n",
    "plt.title('Population in 10000s v/s Profit in 10000s_$ (Training set data)')\n",
    "plt.xlabel('Population in 10000s')\n",
    "plt.ylabel('Profit in 10000 $')\n",
    "plt.legend(loc = 'upper center')\n",
    "plt.show()"
   ]
  },
  {
   "cell_type": "code",
   "execution_count": 106,
   "metadata": {},
   "outputs": [
    {
     "data": {
      "image/png": "[encoded data removed]",
      "text/plain": [
       "<Figure size 640x480 with 1 Axes>"
      ]
     },
     "metadata": {},
     "output_type": "display_data"
    }
   ],
   "source": [
    "plt.scatter(x_test, y_test, color = 'blue',label = 'Test set Data')\n",
    "plt.plot(x_train, regressor.predict(x_train) , color = 'red',label = 'best-fit line/regression line')\n",
    "plt.title('Population in 10000s v/s Profit in 10000s_$ (Test set data)')\n",
    "plt.xlabel('Population in 10000s')\n",
    "plt.ylabel('Profit in 10000 $')\n",
    "plt.legend(loc = 'upper center')\n",
    "plt.show()"
   ]
  },
  {
   "cell_type": "markdown",
   "metadata": {
    "id": "9mxBzwgnbF3Y"
   },
   "source": [
    "#### evalute the model"
   ]
  },
  {
   "cell_type": "code",
   "execution_count": 107,
   "metadata": {},
   "outputs": [
    {
     "name": "stdout",
     "output_type": "stream",
     "text": [
      "Mean Absolute Error: 2.4583355713550614\n"
     ]
    }
   ],
   "source": [
    "MAE = skm.mean_absolute_error(y_test, y_pred)\n",
    "print(\"Mean Absolute Error:\",MAE)"
   ]
  },
  {
   "cell_type": "code",
   "execution_count": 108,
   "metadata": {},
   "outputs": [
    {
     "name": "stdout",
     "output_type": "stream",
     "text": [
      "Mean Absolute Percentage Error: Profit_10000s    181.008898\n",
      "dtype: float64\n",
      "Mean Absolute Percentage Error:  Profit_10000s    181.008898\n",
      "dtype: float64\n"
     ]
    },
    {
     "name": "stderr",
     "output_type": "stream",
     "text": [
      "C:\\Users\\Yash Thakar\\anaconda3\\lib\\site-packages\\numpy\\core\\fromnumeric.py:3438: FutureWarning: In a future version, DataFrame.mean(axis=None) will return a scalar mean over the entire DataFrame. To retain the old behavior, use 'frame.mean(axis=0)' or just 'frame.mean()'\n",
      "  return mean(axis=axis, dtype=dtype, out=out, **kwargs)\n"
     ]
    }
   ],
   "source": [
    "MAPE = np.mean(np.abs( (y_test-y_pred) / y_test ))*100\n",
    "print(\"Mean Absolute Percentage Error:\",np.mean(np.abs( (y_test-y_pred) / y_test))*100)\n",
    "print(\"Mean Absolute Percentage Error: \",MAPE)"
   ]
  },
  {
   "cell_type": "code",
   "execution_count": 109,
   "metadata": {},
   "outputs": [
    {
     "name": "stdout",
     "output_type": "stream",
     "text": [
      "Mean Squared Error:  10.76583715075204\n"
     ]
    }
   ],
   "source": [
    "MSE = skm.mean_squared_error(y_test, y_pred)\n",
    "print(\"Mean Squared Error: \",MSE)"
   ]
  },
  {
   "cell_type": "code",
   "execution_count": 110,
   "metadata": {},
   "outputs": [
    {
     "name": "stdout",
     "output_type": "stream",
     "text": [
      "Root Mean Squared Error: 3.2811335161422552\n"
     ]
    }
   ],
   "source": [
    "RMSE = np.sqrt(skm.mean_squared_error(y_test, y_pred))\n",
    "print(\"Root Mean Squared Error:\",RMSE)"
   ]
  },
  {
   "cell_type": "code",
   "execution_count": 111,
   "metadata": {},
   "outputs": [
    {
     "name": "stdout",
     "output_type": "stream",
     "text": [
      "R^2:  0.6585859672651708\n",
      "Adjusted R Squared:  0.6585859672651708\n"
     ]
    }
   ],
   "source": [
    "R2 = skm.r2_score(y_test, y_pred)\n",
    "print(\"R^2: \",R2)\n",
    "\n",
    "n=x_test.shape[0]\n",
    "p=x_test.shape[1] - 1   # subtract 1 coz test.shape also includes attribute we have to predict\n",
    "\n",
    "adj_R2 = 1 - (1 - R2) * ((n - 1)/(n-p-1))\n",
    "print('Adjusted R Squared: ',adj_R2)"
   ]
  },
  {
   "cell_type": "code",
   "execution_count": 112,
   "metadata": {},
   "outputs": [
    {
     "data": {
      "text/html": [
       "<div>\n",
       "<style scoped>\n",
       "    .dataframe tbody tr th:only-of-type {\n",
       "        vertical-align: middle;\n",
       "    }\n",
       "\n",
       "    .dataframe tbody tr th {\n",
       "        vertical-align: top;\n",
       "    }\n",
       "\n",
       "    .dataframe thead th {\n",
       "        text-align: right;\n",
       "    }\n",
       "</style>\n",
       "<table border=\"1\" class=\"dataframe\">\n",
       "  <thead>\n",
       "    <tr style=\"text-align: right;\">\n",
       "      <th></th>\n",
       "      <th>Metric</th>\n",
       "      <th>Score</th>\n",
       "    </tr>\n",
       "  </thead>\n",
       "  <tbody>\n",
       "    <tr>\n",
       "      <th>0</th>\n",
       "      <td>MSE</td>\n",
       "      <td>10.765837</td>\n",
       "    </tr>\n",
       "    <tr>\n",
       "      <th>1</th>\n",
       "      <td>RMSE</td>\n",
       "      <td>3.281134</td>\n",
       "    </tr>\n",
       "    <tr>\n",
       "      <th>2</th>\n",
       "      <td>MAE</td>\n",
       "      <td>2.458336</td>\n",
       "    </tr>\n",
       "    <tr>\n",
       "      <th>3</th>\n",
       "      <td>MAPE</td>\n",
       "      <td>Profit_10000s    181.008898\n",
       "dtype: float64</td>\n",
       "    </tr>\n",
       "    <tr>\n",
       "      <th>4</th>\n",
       "      <td>r2</td>\n",
       "      <td>0.658586</td>\n",
       "    </tr>\n",
       "    <tr>\n",
       "      <th>5</th>\n",
       "      <td>adj_R2</td>\n",
       "      <td>0.658586</td>\n",
       "    </tr>\n",
       "  </tbody>\n",
       "</table>\n",
       "</div>"
      ],
      "text/plain": [
       "   Metric                                       Score\n",
       "0     MSE                                   10.765837\n",
       "1    RMSE                                    3.281134\n",
       "2     MAE                                    2.458336\n",
       "3    MAPE  Profit_10000s    181.008898\n",
       "dtype: float64\n",
       "4      r2                                    0.658586\n",
       "5  adj_R2                                    0.658586"
      ]
     },
     "execution_count": 112,
     "metadata": {},
     "output_type": "execute_result"
    }
   ],
   "source": [
    "results = [MSE, RMSE, MAE, MAPE, R2, adj_R2]\n",
    "metrics = ['MSE', 'RMSE', 'MAE', 'MAPE', 'r2', 'adj_R2']\n",
    "\n",
    "table_results = pd.DataFrame({'Metric': metrics, 'Score': results})\n",
    "table_results"
   ]
  }
 ],
 "metadata": {
  "colab": {
   "provenance": []
  },
  "kernelspec": {
   "display_name": "Python 3 (ipykernel)",
   "language": "python",
   "name": "python3"
  },
  "language_info": {
   "codemirror_mode": {
    "name": "ipython",
    "version": 3
   },
   "file_extension": ".py",
   "mimetype": "text/x-python",
   "name": "python",
   "nbconvert_exporter": "python",
   "pygments_lexer": "ipython3",
   "version": "3.9.13"
  }
 },
 "nbformat": 4,
 "nbformat_minor": 1
}
