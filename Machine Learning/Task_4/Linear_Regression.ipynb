{
 "cells": [
  {
   "cell_type": "markdown",
   "metadata": {
    "id": "XbA5XjSilR4j"
   },
   "source": [
    "# Linear Regression \n",
    "###### Implementing Linear Regression for predicting profit of a food truck given the population and profits of different cities \n",
    "###### Both with and without sci-kit learn"
   ]
  },
  {
   "cell_type": "code",
   "execution_count": 66,
   "metadata": {
    "id": "5_cw35relJgl"
   },
   "outputs": [],
   "source": [
    "import os\n",
    "import pandas as pd\n",
    "import numpy as np\n",
    "import matplotlib.pyplot as plt\n",
    "%matplotlib inline\n",
    "from sklearn.linear_model import LinearRegression\n",
    "import sklearn.metrics as skm\n",
    "import math"
   ]
  },
  {
   "cell_type": "markdown",
   "metadata": {
    "id": "36GyLOkigQAq"
   },
   "source": [
    "in dataset both the column has values in multiple of 10k"
   ]
  },
  {
   "cell_type": "markdown",
   "metadata": {
    "id": "6WCVaXe8lll3"
   },
   "source": [
    "### Reading the dataset"
   ]
  },
  {
   "cell_type": "code",
   "execution_count": 43,
   "metadata": {
    "id": "i4huSnTRloPT"
   },
   "outputs": [],
   "source": [
    "df = pd.read_csv('Data1.txt',names = ['Population_10000s', 'Profit_10000s'])"
   ]
  },
  {
   "cell_type": "code",
   "execution_count": 44,
   "metadata": {},
   "outputs": [],
   "source": [
    "df=pd.read_table('Data1.txt', delimiter = ',',names = ['Population_10000s', 'Profit_10000s'])"
   ]
  },
  {
   "cell_type": "code",
   "execution_count": 45,
   "metadata": {
    "id": "JgiJnNwDlpRM"
   },
   "outputs": [
    {
     "data": {
      "text/html": [
       "<div>\n",
       "<style scoped>\n",
       "    .dataframe tbody tr th:only-of-type {\n",
       "        vertical-align: middle;\n",
       "    }\n",
       "\n",
       "    .dataframe tbody tr th {\n",
       "        vertical-align: top;\n",
       "    }\n",
       "\n",
       "    .dataframe thead th {\n",
       "        text-align: right;\n",
       "    }\n",
       "</style>\n",
       "<table border=\"1\" class=\"dataframe\">\n",
       "  <thead>\n",
       "    <tr style=\"text-align: right;\">\n",
       "      <th></th>\n",
       "      <th>Population_10000s</th>\n",
       "      <th>Profit_10000s</th>\n",
       "    </tr>\n",
       "  </thead>\n",
       "  <tbody>\n",
       "    <tr>\n",
       "      <th>0</th>\n",
       "      <td>6.1101</td>\n",
       "      <td>17.59200</td>\n",
       "    </tr>\n",
       "    <tr>\n",
       "      <th>1</th>\n",
       "      <td>5.5277</td>\n",
       "      <td>9.13020</td>\n",
       "    </tr>\n",
       "    <tr>\n",
       "      <th>2</th>\n",
       "      <td>8.5186</td>\n",
       "      <td>13.66200</td>\n",
       "    </tr>\n",
       "    <tr>\n",
       "      <th>3</th>\n",
       "      <td>7.0032</td>\n",
       "      <td>11.85400</td>\n",
       "    </tr>\n",
       "    <tr>\n",
       "      <th>4</th>\n",
       "      <td>5.8598</td>\n",
       "      <td>6.82330</td>\n",
       "    </tr>\n",
       "    <tr>\n",
       "      <th>...</th>\n",
       "      <td>...</td>\n",
       "      <td>...</td>\n",
       "    </tr>\n",
       "    <tr>\n",
       "      <th>92</th>\n",
       "      <td>5.8707</td>\n",
       "      <td>7.20290</td>\n",
       "    </tr>\n",
       "    <tr>\n",
       "      <th>93</th>\n",
       "      <td>5.3054</td>\n",
       "      <td>1.98690</td>\n",
       "    </tr>\n",
       "    <tr>\n",
       "      <th>94</th>\n",
       "      <td>8.2934</td>\n",
       "      <td>0.14454</td>\n",
       "    </tr>\n",
       "    <tr>\n",
       "      <th>95</th>\n",
       "      <td>13.3940</td>\n",
       "      <td>9.05510</td>\n",
       "    </tr>\n",
       "    <tr>\n",
       "      <th>96</th>\n",
       "      <td>5.4369</td>\n",
       "      <td>0.61705</td>\n",
       "    </tr>\n",
       "  </tbody>\n",
       "</table>\n",
       "<p>97 rows × 2 columns</p>\n",
       "</div>"
      ],
      "text/plain": [
       "    Population_10000s  Profit_10000s\n",
       "0              6.1101       17.59200\n",
       "1              5.5277        9.13020\n",
       "2              8.5186       13.66200\n",
       "3              7.0032       11.85400\n",
       "4              5.8598        6.82330\n",
       "..                ...            ...\n",
       "92             5.8707        7.20290\n",
       "93             5.3054        1.98690\n",
       "94             8.2934        0.14454\n",
       "95            13.3940        9.05510\n",
       "96             5.4369        0.61705\n",
       "\n",
       "[97 rows x 2 columns]"
      ]
     },
     "execution_count": 45,
     "metadata": {},
     "output_type": "execute_result"
    }
   ],
   "source": [
    "df"
   ]
  },
  {
   "cell_type": "markdown",
   "metadata": {
    "id": "-utpyHE8l8XX"
   },
   "source": [
    "### Scatter plot of Population vs Profit"
   ]
  },
  {
   "cell_type": "code",
   "execution_count": 46,
   "metadata": {
    "id": "WU2e_EBIl7nO"
   },
   "outputs": [
    {
     "data": {
      "image/png": "[encoded data removed]",
      "text/plain": [
       "<Figure size 640x480 with 1 Axes>"
      ]
     },
     "metadata": {},
     "output_type": "display_data"
    }
   ],
   "source": [
    "plt.scatter(df['Population_10000s'],df['Profit_10000s'])\n",
    "plt.xlabel('Population in 10000s')\n",
    "plt.ylabel('Profit in 10000 $')\n",
    "plt.show()"
   ]
  },
  {
   "cell_type": "markdown",
   "metadata": {
    "id": "iGFXAq_YoWZq"
   },
   "source": [
    "### Function to compute the cost function "
   ]
  },
  {
   "cell_type": "code",
   "execution_count": 47,
   "metadata": {
    "id": "_8d1sdJmoVGb"
   },
   "outputs": [],
   "source": [
    "### Function to compute the cost function "
   ]
  },
  {
   "cell_type": "code",
   "execution_count": 48,
   "metadata": {
    "id": "Az8pJnBMoa1N"
   },
   "outputs": [],
   "source": [
    "def computeCost(x, y, theta):\n",
    "    #MSE ka formula\n",
    "    inner_product = np.power(((X * theta.T) - y) , 2)\n",
    "    return np.sum(inner_product) / (2 * len(X))\n"
   ]
  },
  {
   "cell_type": "markdown",
   "metadata": {
    "id": "v31Nvikf2xYm"
   },
   "source": [
    "### Appending 1s to the front of the dataset"
   ]
  },
  {
   "cell_type": "code",
   "execution_count": 49,
   "metadata": {
    "id": "XQlQ0VvR23gJ"
   },
   "outputs": [
    {
     "name": "stdout",
     "output_type": "stream",
     "text": [
      "    ones  Population_10000s  Profit_10000s\n",
      "0    1.0             6.1101       17.59200\n",
      "1    1.0             5.5277        9.13020\n",
      "2    1.0             8.5186       13.66200\n",
      "3    1.0             7.0032       11.85400\n",
      "4    1.0             5.8598        6.82330\n",
      "..   ...                ...            ...\n",
      "92   1.0             5.8707        7.20290\n",
      "93   1.0             5.3054        1.98690\n",
      "94   1.0             8.2934        0.14454\n",
      "95   1.0            13.3940        9.05510\n",
      "96   1.0             5.4369        0.61705\n",
      "\n",
      "[97 rows x 3 columns]\n"
     ]
    }
   ],
   "source": [
    "#insert column with 1s\n",
    "a = []\n",
    "a = np.ones(len(df)).tolist()\n",
    "ones = pd.DataFrame(a)\n",
    "\n",
    "df.insert (0, \"ones\", a)\n",
    "print(df)"
   ]
  },
  {
   "cell_type": "markdown",
   "metadata": {
    "id": "HQbvSZFcsExq"
   },
   "source": [
    "### Set training data (X) and target variable (y)"
   ]
  },
  {
   "cell_type": "code",
   "execution_count": 108,
   "metadata": {
    "id": "WVCVPoznsMms"
   },
   "outputs": [
    {
     "name": "stdout",
     "output_type": "stream",
     "text": [
      "Total # of sample in whole dataset: 97\n",
      "**************************************************\n",
      "Total # of sample in train dataset: 64\n",
      "Shape of x_train: (64, 1)\n",
      "**************************************************\n",
      "Total # of sample in test dataset: 33\n",
      "Shape of x_test: (33, 1)\n"
     ]
    }
   ],
   "source": [
    "from sklearn.model_selection import train_test_split\n",
    "\n",
    "x = df[['Population_10000s']]\n",
    "y = df[['Profit_10000s']]\n",
    "x_train, x_test, y_train, y_test = train_test_split(x, y, test_size = 1/3, random_state = 101)\n",
    "\n",
    "\n",
    "print(f'Total # of sample in whole dataset: {len(x)}')\n",
    "print(\"*****\"*10)\n",
    "print(f'Total # of sample in train dataset: {len(x_train)}')\n",
    "print(f'Shape of x_train: {x_train.shape}')\n",
    "print(\"*****\"*10)\n",
    "print(f'Total # of sample in test dataset: {len(x_test)}')\n",
    "print(f'Shape of x_test: {x_test.shape}')"
   ]
  },
  {
   "cell_type": "code",
   "execution_count": 90,
   "metadata": {
    "id": "9b47Z-VUsRAq"
   },
   "outputs": [
    {
     "name": "stdout",
     "output_type": "stream",
     "text": [
      "[[0 0]]\n"
     ]
    }
   ],
   "source": [
    "theta = np.matrix(np.array([0,0]))\n",
    "print(theta)\n",
    "\n",
    "x = np.matrix(x)\n",
    "y_mat = np.matrix(y)"
   ]
  },
  {
   "cell_type": "markdown",
   "metadata": {
    "id": "bY6E4Mc2sSSC"
   },
   "source": [
    "### Converting dataframe to numpy matrices and creating a parameter (theta) matrix"
   ]
  },
  {
   "cell_type": "code",
   "execution_count": 91,
   "metadata": {
    "id": "qr-CsrRAsV0_"
   },
   "outputs": [
    {
     "name": "stdout",
     "output_type": "stream",
     "text": [
      "**************************************************\n",
      "x_train1 array =  [ 5.4994 10.957   6.1891 10.236   5.2524  7.9334  7.3345  8.2951  5.5649\n",
      "  7.5386  5.8918  5.3077  5.4369  5.1301  5.7292 11.708  20.341   7.2259\n",
      "  5.3794  5.7077  6.3557  6.4296  5.1793  5.0594  5.0702 12.836   6.3534\n",
      "  6.2742  7.4239  5.3054  8.5781  8.5172 13.176   8.0959 21.279   5.5204\n",
      "  6.1101  5.7107  7.0708  6.0062  7.8247  8.2111  9.4536 22.203   6.4862\n",
      "  5.5416  6.5159  5.734   8.3829 18.959   8.8254  7.6366  5.8707  5.8598\n",
      "  5.4069  5.0365  5.0546  6.5479  6.002  14.908  10.136   5.1884 14.164\n",
      " 13.394 ]\n",
      "y_train1 array =  [ 1.0173   7.0467   3.1386   7.7754  -1.22     4.5623   4.0259   5.7442\n",
      "  3.0825   3.8845   1.8495   1.8396   0.61705  0.56077  0.47953  5.3854\n",
      " 20.992    3.3411   3.5129   1.8451   0.67861  3.6518  -0.74279  2.8214\n",
      "  5.1337  10.117    5.4974   2.4756   4.2885   1.9869  12.       4.2415\n",
      " 14.692    4.1164  17.929    0.152   17.592    3.2522   5.3893   1.2784\n",
      "  6.7318   6.5426   5.4141  24.147    6.5987   1.0179   5.3436   3.1551\n",
      " 11.886   17.054    5.1694   4.2959   7.2029   6.8233   0.55657  5.7014\n",
      "  3.8166   0.29678  0.92695 12.054    6.6799   0.20421 15.505    9.0551 ]\n"
     ]
    }
   ],
   "source": [
    "#converting X,y into numpy matrix\n",
    "\n",
    "print(\"*****\"*10)\n",
    "x_train1 = np.array(x_train.Population_10000s)\n",
    "print(\"x_train1 array = \", x_train1)\n",
    "y_train1 = np.array(y_train.Profit_10000s)\n",
    "print(\"y_train1 array = \", y_train1)"
   ]
  },
  {
   "cell_type": "code",
   "execution_count": 92,
   "metadata": {
    "id": "xgRDEMANaCGu"
   },
   "outputs": [],
   "source": [
    "#converting theta into numpy matrix\n",
    "# take initial values as [0,0] for theta"
   ]
  },
  {
   "cell_type": "markdown",
   "metadata": {
    "id": "cbfeP2qas_4o"
   },
   "source": [
    "### Function to perform gradient descent on parameters theta by repeatedly updating the parameters"
   ]
  },
  {
   "cell_type": "code",
   "execution_count": 105,
   "metadata": {
    "id": "_8mKXGk8tHKy"
   },
   "outputs": [],
   "source": [
    "def gradient_descent(x, y,iters,alpha):\n",
    "    # initial value of m and b\n",
    "    \n",
    "    # m is the slope of best fit line, here it is the variable m_curr\n",
    "    # b is the intercept of best fit line, here it is the variable b_curr\n",
    "    \n",
    "    m_curr = b_curr = 0\n",
    "    # initialize number of steps\n",
    "    iterations = iters\n",
    "    # Number of data points n\n",
    "    n = len(x)\n",
    "    # Initialize learning rate\n",
    "    learning_rate = alpha\n",
    "    \n",
    "    cost_previous = 0\n",
    "    for i in range(iterations):\n",
    "        y_pred = m_curr * x + b_curr   #y=mx+b\n",
    "        \n",
    "        # this can be replaced by  a cost fucntion which does the exact same thing\n",
    "        cost = skm.mean_squared_error(y, y_pred)\n",
    "        # cost = (1/n) * sum([val**2 for val in (y-y_pred)]) this is cost fucntion(MSE) but calculated manually\n",
    "        \n",
    "        md = -(2/n)*sum(x*(y-y_pred))\n",
    "        bd = -(2/n)*sum(y-y_pred)\n",
    "        \n",
    "        m_curr = m_curr - learning_rate * md\n",
    "        # print(m_curr)\n",
    "        b_curr = b_curr - learning_rate * bd\n",
    "        # print(b_curr)\n",
    "         \n",
    "        # if statement for loop to exit when current cost is very close to previous cost\n",
    "        if math.isclose(cost, cost_previous, rel_tol=1e-20):\n",
    "            break\n",
    "            \n",
    "        cost_previous = cost\n",
    "    print(\"m = {}, b = {}, cost = {}, i = {}\".format(m_curr, b_curr, cost, i))\n",
    "    return cost"
   ]
  },
  {
   "cell_type": "markdown",
   "metadata": {
    "id": "Adv1nVcItTJs"
   },
   "source": [
    "### Set values for learning rate and number of iterations\n",
    "- alpha here denotes the learning rate that helps to determine how quickly the algorithm\n",
    "    will converge to the optimal solution\n",
    "- iters denotes the number of iterations"
   ]
  },
  {
   "cell_type": "code",
   "execution_count": 94,
   "metadata": {
    "id": "FBz7ob7vtRLr"
   },
   "outputs": [],
   "source": [
    "alpha = 0.01 \n",
    "iters = 1000\n",
    "\n",
    "#alpha and number of iterations are already set in the gradient_descent fuction"
   ]
  },
  {
   "cell_type": "code",
   "execution_count": 95,
   "metadata": {},
   "outputs": [
    {
     "name": "stdout",
     "output_type": "stream",
     "text": [
      "m = 1.1284853084148112, b = -3.5364123563669296, cost = 8.144431714314166, i = 999\n"
     ]
    }
   ],
   "source": [
    "cost = gradient_descent(x_train1, y_train1,iters,alpha)"
   ]
  },
  {
   "cell_type": "markdown",
   "metadata": {
    "id": "W3HlzF5pt_0Z"
   },
   "source": [
    "\n",
    "\n",
    "\n",
    "### Using Matplotlib library to visualize our solution using scatter plot"
   ]
  },
  {
   "cell_type": "code",
   "execution_count": 104,
   "metadata": {
    "id": "gXP5psuyuAPr"
   },
   "outputs": [
    {
     "data": {
      "text/plain": [
       "Text(0.5, 1.0, 'Predicted Profit vs. Population Size')"
      ]
     },
     "execution_count": 104,
     "metadata": {},
     "output_type": "execute_result"
    },
    {
     "data": {
      "image/png": "[encoded data removed]",
      "text/plain": [
       "<Figure size 1000x700 with 1 Axes>"
      ]
     },
     "metadata": {},
     "output_type": "display_data"
    }
   ],
   "source": [
    "# linspace function will create an evenly-spaced series of points within the range of our data\n",
    "\n",
    "x = np.linspace(df.Population_10000s.min(), df.Population_10000s.max(), 100)  \n",
    "f = theta[0, 0] + (theta[0, 1] * x)\n",
    "\n",
    "fig, ax = plt.subplots(figsize=(10, 7))  \n",
    "ax.plot(x, f, 'r', label='Prediction')  \n",
    "ax.scatter(df.Population_10000s, df.Profit_10000s, label='Traning Data')  \n",
    "ax.legend(loc=2)  \n",
    "ax.set_xlabel('Population')  \n",
    "ax.set_ylabel('Profit')  \n",
    "ax.set_title('Predicted Profit vs. Population Size')"
   ]
  },
  {
   "cell_type": "code",
   "execution_count": 103,
   "metadata": {
    "id": "iaOPcKBtuG7v"
   },
   "outputs": [
    {
     "ename": "TypeError",
     "evalue": "unsupported operand type(s) for -: 'builtin_function_or_method' and 'int'",
     "output_type": "error",
     "traceback": [
      "\u001b[1;31m---------------------------------------------------------------------------\u001b[0m",
      "\u001b[1;31mTypeError\u001b[0m                                 Traceback (most recent call last)",
      "\u001b[1;32m~\\AppData\\Local\\Temp\\ipykernel_22236\\1782618752.py\u001b[0m in \u001b[0;36m<module>\u001b[1;34m\u001b[0m\n\u001b[0;32m      1\u001b[0m \u001b[0mfig\u001b[0m\u001b[1;33m,\u001b[0m \u001b[0max\u001b[0m \u001b[1;33m=\u001b[0m \u001b[0mplt\u001b[0m\u001b[1;33m.\u001b[0m\u001b[0msubplots\u001b[0m\u001b[1;33m(\u001b[0m\u001b[0mfigsize\u001b[0m \u001b[1;33m=\u001b[0m \u001b[1;33m(\u001b[0m\u001b[1;36m12\u001b[0m\u001b[1;33m,\u001b[0m \u001b[1;36m8\u001b[0m\u001b[1;33m)\u001b[0m\u001b[1;33m)\u001b[0m\u001b[1;33m\u001b[0m\u001b[1;33m\u001b[0m\u001b[0m\n\u001b[1;32m----> 2\u001b[1;33m \u001b[0max\u001b[0m\u001b[1;33m.\u001b[0m\u001b[0mplot\u001b[0m\u001b[1;33m(\u001b[0m\u001b[0mnp\u001b[0m\u001b[1;33m.\u001b[0m\u001b[0marange\u001b[0m\u001b[1;33m(\u001b[0m\u001b[0miter\u001b[0m\u001b[1;33m)\u001b[0m\u001b[1;33m,\u001b[0m \u001b[0mcost\u001b[0m\u001b[1;33m,\u001b[0m \u001b[1;34m'r'\u001b[0m\u001b[1;33m)\u001b[0m\u001b[1;33m\u001b[0m\u001b[1;33m\u001b[0m\u001b[0m\n\u001b[0m\u001b[0;32m      3\u001b[0m \u001b[0max\u001b[0m\u001b[1;33m.\u001b[0m\u001b[0mset_xlabel\u001b[0m\u001b[1;33m(\u001b[0m\u001b[1;34m'Iterations'\u001b[0m\u001b[1;33m)\u001b[0m\u001b[1;33m\u001b[0m\u001b[1;33m\u001b[0m\u001b[0m\n\u001b[0;32m      4\u001b[0m \u001b[0max\u001b[0m\u001b[1;33m.\u001b[0m\u001b[0mset_ylabel\u001b[0m\u001b[1;33m(\u001b[0m\u001b[1;34m'Cost'\u001b[0m\u001b[1;33m)\u001b[0m\u001b[1;33m\u001b[0m\u001b[1;33m\u001b[0m\u001b[0m\n\u001b[0;32m      5\u001b[0m \u001b[0max\u001b[0m\u001b[1;33m.\u001b[0m\u001b[0mset_title\u001b[0m\u001b[1;33m(\u001b[0m\u001b[1;34m'Error vs Training epoch'\u001b[0m\u001b[1;33m)\u001b[0m\u001b[1;33m\u001b[0m\u001b[1;33m\u001b[0m\u001b[0m\n",
      "\u001b[1;31mTypeError\u001b[0m: unsupported operand type(s) for -: 'builtin_function_or_method' and 'int'"
     ]
    },
    {
     "data": {
      "image/png": "[encoded data removed]",
      "text/plain": [
       "<Figure size 1200x800 with 1 Axes>"
      ]
     },
     "metadata": {},
     "output_type": "display_data"
    }
   ],
   "source": [
    "fig, ax = plt.subplots(figsize = (12, 8))\n",
    "ax.plot(np.arange(iter), cost, 'r')\n",
    "ax.set_xlabel('Iterations')\n",
    "ax.set_ylabel('Cost')\n",
    "ax.set_title('Error vs Training epoch')"
   ]
  },
  {
   "cell_type": "markdown",
   "metadata": {
    "id": "jgmRYwlXWEX4"
   },
   "source": [
    "SCIKIT LEARN IMPLEMENTATION\n",
    "\n",
    "-Implement various type of errors,\n",
    " eg.Mean squared error,R_squared_score\n",
    "choose best for the evaluting model,\n",
    "and justify why it is best\n"
   ]
  },
  {
   "cell_type": "code",
   "execution_count": 109,
   "metadata": {
    "id": "_-Z2iJXUWDvk"
   },
   "outputs": [
    {
     "data": {
      "text/plain": [
       "LinearRegression()"
      ]
     },
     "execution_count": 109,
     "metadata": {},
     "output_type": "execute_result"
    }
   ],
   "source": [
    "#fit the model\n",
    "from sklearn.linear_model import LinearRegression\n",
    "regressor = LinearRegression()\n",
    "regressor.fit(x_train,y_train)"
   ]
  },
  {
   "cell_type": "code",
   "execution_count": 110,
   "metadata": {
    "id": "EKb8ME-ma-ex"
   },
   "outputs": [],
   "source": [
    "#predict the target values\n",
    "y_pred = regressor.predict(x_test)"
   ]
  },
  {
   "cell_type": "code",
   "execution_count": 114,
   "metadata": {},
   "outputs": [
    {
     "data": {
      "image/png": "[encoded data removed]",
      "text/plain": [
       "<Figure size 640x480 with 1 Axes>"
      ]
     },
     "metadata": {},
     "output_type": "display_data"
    }
   ],
   "source": [
    "plt.scatter(x_train, y_train, color = 'blue',label = 'Training set Data')\n",
    "plt.plot(x_train, regressor.predict(x_train) , color = 'red',label = 'best-fit line/regression line')\n",
    "plt.title('Population in 10000s v/s Profit in 10000s_$ (Training set data)')\n",
    "plt.xlabel('Population in 10000s')\n",
    "plt.ylabel('Profit in 10000 $')\n",
    "plt.legend(loc = 'upper center')\n",
    "plt.show()"
   ]
  },
  {
   "cell_type": "code",
   "execution_count": 118,
   "metadata": {},
   "outputs": [
    {
     "data": {
      "image/png": "[encoded data removed]",
      "text/plain": [
       "<Figure size 640x480 with 1 Axes>"
      ]
     },
     "metadata": {},
     "output_type": "display_data"
    }
   ],
   "source": [
    "plt.scatter(x_test, y_test, color = 'blue',label = 'Test set Data')\n",
    "plt.plot(x_train, regressor.predict(x_train) , color = 'red',label = 'best-fit line/regression line')\n",
    "plt.title('Population in 10000s v/s Profit in 10000s_$ (Test set data)')\n",
    "plt.xlabel('Population in 10000s')\n",
    "plt.ylabel('Profit in 10000 $')\n",
    "plt.legend(loc = 'upper center')\n",
    "plt.show()"
   ]
  },
  {
   "cell_type": "markdown",
   "metadata": {
    "id": "9mxBzwgnbF3Y"
   },
   "source": [
    "#### evalute the model"
   ]
  },
  {
   "cell_type": "code",
   "execution_count": 120,
   "metadata": {},
   "outputs": [
    {
     "name": "stdout",
     "output_type": "stream",
     "text": [
      "Mean Absolute Error: 2.4583355713550614\n"
     ]
    }
   ],
   "source": [
    "MAE = skm.mean_absolute_error(y_test, y_pred)\n",
    "print(\"Mean Absolute Error:\",MAE)"
   ]
  },
  {
   "cell_type": "code",
   "execution_count": 121,
   "metadata": {},
   "outputs": [
    {
     "name": "stdout",
     "output_type": "stream",
     "text": [
      "Mean Absolute Percentage Error: Profit_10000s    181.008898\n",
      "dtype: float64\n",
      "Mean Absolute Percentage Error:  Profit_10000s    181.008898\n",
      "dtype: float64\n"
     ]
    },
    {
     "name": "stderr",
     "output_type": "stream",
     "text": [
      "C:\\Users\\Yash Thakar\\anaconda3\\lib\\site-packages\\numpy\\core\\fromnumeric.py:3438: FutureWarning: In a future version, DataFrame.mean(axis=None) will return a scalar mean over the entire DataFrame. To retain the old behavior, use 'frame.mean(axis=0)' or just 'frame.mean()'\n",
      "  return mean(axis=axis, dtype=dtype, out=out, **kwargs)\n"
     ]
    }
   ],
   "source": [
    "MAPE = np.mean(np.abs( (y_test-y_pred) / y_test ))*100\n",
    "print(\"Mean Absolute Percentage Error:\",np.mean(np.abs( (y_test-y_pred) / y_test))*100)\n",
    "print(\"Mean Absolute Percentage Error: \",MAPE)"
   ]
  },
  {
   "cell_type": "code",
   "execution_count": 122,
   "metadata": {},
   "outputs": [
    {
     "name": "stdout",
     "output_type": "stream",
     "text": [
      "Mean Squared Error:  10.76583715075204\n"
     ]
    }
   ],
   "source": [
    "MSE = skm.mean_squared_error(y_test, y_pred)\n",
    "print(\"Mean Squared Error: \",MSE)"
   ]
  },
  {
   "cell_type": "code",
   "execution_count": 123,
   "metadata": {},
   "outputs": [
    {
     "name": "stdout",
     "output_type": "stream",
     "text": [
      "Root Mean Squared Error: 3.2811335161422552\n"
     ]
    }
   ],
   "source": [
    "RMSE = np.sqrt(skm.mean_squared_error(y_test, y_pred))\n",
    "print(\"Root Mean Squared Error:\",RMSE)"
   ]
  },
  {
   "cell_type": "code",
   "execution_count": 124,
   "metadata": {},
   "outputs": [
    {
     "name": "stdout",
     "output_type": "stream",
     "text": [
      "R^2:  0.6585859672651708\n",
      "Adjusted R Squared:  0.6585859672651708\n"
     ]
    }
   ],
   "source": [
    "R2 = skm.r2_score(y_test, y_pred)\n",
    "print(\"R^2: \",R2)\n",
    "\n",
    "n=x_test.shape[0]\n",
    "p=x_test.shape[1] - 1   # subtract 1 coz test.shape also includes attribute we have to predict\n",
    "\n",
    "adj_R2 = 1 - (1 - R2) * ((n - 1)/(n-p-1))\n",
    "print('Adjusted R Squared: ',adj_R2)"
   ]
  },
  {
   "cell_type": "code",
   "execution_count": 128,
   "metadata": {},
   "outputs": [
    {
     "data": {
      "text/html": [
       "<div>\n",
       "<style scoped>\n",
       "    .dataframe tbody tr th:only-of-type {\n",
       "        vertical-align: middle;\n",
       "    }\n",
       "\n",
       "    .dataframe tbody tr th {\n",
       "        vertical-align: top;\n",
       "    }\n",
       "\n",
       "    .dataframe thead th {\n",
       "        text-align: right;\n",
       "    }\n",
       "</style>\n",
       "<table border=\"1\" class=\"dataframe\">\n",
       "  <thead>\n",
       "    <tr style=\"text-align: right;\">\n",
       "      <th></th>\n",
       "      <th>Metric</th>\n",
       "      <th>Score</th>\n",
       "    </tr>\n",
       "  </thead>\n",
       "  <tbody>\n",
       "    <tr>\n",
       "      <th>0</th>\n",
       "      <td>MSE</td>\n",
       "      <td>10.765837</td>\n",
       "    </tr>\n",
       "    <tr>\n",
       "      <th>1</th>\n",
       "      <td>RMSE</td>\n",
       "      <td>3.281134</td>\n",
       "    </tr>\n",
       "    <tr>\n",
       "      <th>2</th>\n",
       "      <td>MAE</td>\n",
       "      <td>2.458336</td>\n",
       "    </tr>\n",
       "    <tr>\n",
       "      <th>3</th>\n",
       "      <td>MAPE</td>\n",
       "      <td>Profit_10000s    181.008898\n",
       "dtype: float64</td>\n",
       "    </tr>\n",
       "    <tr>\n",
       "      <th>4</th>\n",
       "      <td>r2</td>\n",
       "      <td>0.658586</td>\n",
       "    </tr>\n",
       "    <tr>\n",
       "      <th>5</th>\n",
       "      <td>adj_R2</td>\n",
       "      <td>0.658586</td>\n",
       "    </tr>\n",
       "  </tbody>\n",
       "</table>\n",
       "</div>"
      ],
      "text/plain": [
       "   Metric                                       Score\n",
       "0     MSE                                   10.765837\n",
       "1    RMSE                                    3.281134\n",
       "2     MAE                                    2.458336\n",
       "3    MAPE  Profit_10000s    181.008898\n",
       "dtype: float64\n",
       "4      r2                                    0.658586\n",
       "5  adj_R2                                    0.658586"
      ]
     },
     "execution_count": 128,
     "metadata": {},
     "output_type": "execute_result"
    }
   ],
   "source": [
    "results = [MSE, RMSE, MAE, MAPE, R2, adj_R2]\n",
    "metrics = ['MSE', 'RMSE', 'MAE', 'MAPE', 'r2', 'adj_R2']\n",
    "\n",
    "table_results = pd.DataFrame({'Metric': metrics, 'Score': results})\n",
    "table_results"
   ]
  },
  {
   "cell_type": "markdown",
   "metadata": {},
   "source": [
    "The best metric for the evaluting model would be the MAE as it gives the score in the same unit as the attribute and is least affected by outliers"
   ]
  }
 ],
 "metadata": {
  "colab": {
   "provenance": []
  },
  "kernelspec": {
   "display_name": "Python 3 (ipykernel)",
   "language": "python",
   "name": "python3"
  },
  "language_info": {
   "codemirror_mode": {
    "name": "ipython",
    "version": 3
   },
   "file_extension": ".py",
   "mimetype": "text/x-python",
   "name": "python",
   "nbconvert_exporter": "python",
   "pygments_lexer": "ipython3",
   "version": "3.9.13"
  }
 },
 "nbformat": 4,
 "nbformat_minor": 1
}
