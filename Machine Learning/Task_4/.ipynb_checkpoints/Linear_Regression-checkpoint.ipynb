{
 "cells": [
  {
   "cell_type": "markdown",
   "metadata": {
    "id": "XbA5XjSilR4j"
   },
   "source": [
    "# Linear Regression\n",
    "Implementing Linear Regression for predicting profit of a food truck given the population and profits of different cities\n"
   ]
  },
  {
   "cell_type": "code",
   "execution_count": 1,
   "metadata": {
    "id": "5_cw35relJgl"
   },
   "outputs": [],
   "source": [
    "import os\n",
    "import pandas as pd\n",
    "import numpy as np\n",
    "import matplotlib.pyplot as plt\n",
    "%matplotlib inline\n",
    "from sklearn.linear_model import LinearRegression\n",
    "import sklearn.metrics as skm"
   ]
  },
  {
   "cell_type": "markdown",
   "metadata": {
    "id": "36GyLOkigQAq"
   },
   "source": [
    "in dataset both the column has values in multiple of 10k"
   ]
  },
  {
   "cell_type": "markdown",
   "metadata": {
    "id": "6WCVaXe8lll3"
   },
   "source": [
    "### Reading the dataset"
   ]
  },
  {
   "cell_type": "code",
   "execution_count": 2,
   "metadata": {
    "id": "i4huSnTRloPT"
   },
   "outputs": [],
   "source": [
    "df = pd.read_csv('Data1.txt',names = ['Population_10000s', 'Profit_10000s_$'])"
   ]
  },
  {
   "cell_type": "code",
   "execution_count": 3,
   "metadata": {
    "id": "JgiJnNwDlpRM"
   },
   "outputs": [
    {
     "ename": "NameError",
     "evalue": "name 'df' is not defined",
     "output_type": "error",
     "traceback": [
      "\u001b[1;31m---------------------------------------------------------------------------\u001b[0m",
      "\u001b[1;31mNameError\u001b[0m                                 Traceback (most recent call last)",
      "\u001b[1;32m~\\AppData\\Local\\Temp\\ipykernel_22236\\1396537375.py\u001b[0m in \u001b[0;36m<module>\u001b[1;34m\u001b[0m\n\u001b[1;32m----> 1\u001b[1;33m \u001b[0mdf\u001b[0m\u001b[1;33m\u001b[0m\u001b[1;33m\u001b[0m\u001b[0m\n\u001b[0m",
      "\u001b[1;31mNameError\u001b[0m: name 'df' is not defined"
     ]
    }
   ],
   "source": [
    "df"
   ]
  },
  {
   "cell_type": "markdown",
   "metadata": {
    "id": "-utpyHE8l8XX"
   },
   "source": [
    "### Scatter plot of Population vs Profit"
   ]
  },
  {
   "cell_type": "code",
   "execution_count": null,
   "metadata": {
    "id": "WU2e_EBIl7nO"
   },
   "outputs": [],
   "source": [
    "#plot"
   ]
  },
  {
   "cell_type": "code",
   "execution_count": null,
   "metadata": {
    "id": "U89MM9l2mQF6"
   },
   "outputs": [],
   "source": []
  },
  {
   "cell_type": "markdown",
   "metadata": {
    "id": "iGFXAq_YoWZq"
   },
   "source": [
    "### Function to compute the cost function "
   ]
  },
  {
   "cell_type": "code",
   "execution_count": null,
   "metadata": {
    "id": "_8d1sdJmoVGb"
   },
   "outputs": [],
   "source": [
    "### Function to compute the cost function "
   ]
  },
  {
   "cell_type": "code",
   "execution_count": null,
   "metadata": {
    "id": "Az8pJnBMoa1N"
   },
   "outputs": [],
   "source": [
    "def computeCost(X, y, theta):\n",
    "    inner_product = np.power(((X * theta.T) - y) , 2)\n",
    "    return np.sum(inner_product) / (2 * len(X))"
   ]
  },
  {
   "cell_type": "markdown",
   "metadata": {
    "id": "v31Nvikf2xYm"
   },
   "source": [
    "### Appending 1s to the front of the dataset"
   ]
  },
  {
   "cell_type": "code",
   "execution_count": null,
   "metadata": {
    "id": "XQlQ0VvR23gJ"
   },
   "outputs": [],
   "source": [
    "#insert column with 1s"
   ]
  },
  {
   "cell_type": "markdown",
   "metadata": {
    "id": "HQbvSZFcsExq"
   },
   "source": [
    "### Set training data (X) and target variable (y)"
   ]
  },
  {
   "cell_type": "code",
   "execution_count": null,
   "metadata": {
    "id": "WVCVPoznsMms"
   },
   "outputs": [],
   "source": []
  },
  {
   "cell_type": "code",
   "execution_count": null,
   "metadata": {
    "id": "9b47Z-VUsRAq"
   },
   "outputs": [],
   "source": []
  },
  {
   "cell_type": "markdown",
   "metadata": {
    "id": "bY6E4Mc2sSSC"
   },
   "source": [
    "### Converting dataframe to numpy matrices and creating a parameter (theta) matrix"
   ]
  },
  {
   "cell_type": "code",
   "execution_count": null,
   "metadata": {
    "id": "qr-CsrRAsV0_"
   },
   "outputs": [],
   "source": [
    "#converting X,y into numpy matrix"
   ]
  },
  {
   "cell_type": "code",
   "execution_count": null,
   "metadata": {
    "id": "xgRDEMANaCGu"
   },
   "outputs": [],
   "source": [
    "#converting theta into numpy matrix\n",
    "# take initial values as [0,0] for theta\n"
   ]
  },
  {
   "cell_type": "markdown",
   "metadata": {
    "id": "cbfeP2qas_4o"
   },
   "source": [
    "### Function to perform gradient descent on parameters theta by repeatedly updating the parameters"
   ]
  },
  {
   "cell_type": "code",
   "execution_count": null,
   "metadata": {
    "id": "_8mKXGk8tHKy"
   },
   "outputs": [],
   "source": [
    "def gradientDescent(X, y, theta, alpha, iters):\n",
    "    temp = np.matrix(np.zeros(theta.shape))\n",
    "    parameters = int(theta.ravel().shape[1])\n",
    "    cost = np.zeros(iters)\n",
    "    \n",
    "    # With each iteration, we are calculating the changes to be made to the\n",
    "    # parameter (theta) value to reduce the error (cost)\n",
    "\n",
    "        # number of parameters to be calculated,here we have 2 parameters theta [0,0] and theta [0,1]\n",
    "        \n",
    "        \n",
    "    return theta, cost"
   ]
  },
  {
   "cell_type": "markdown",
   "metadata": {
    "id": "Adv1nVcItTJs"
   },
   "source": [
    "### Set values for learning rate and number of iterations\n",
    "- alpha here denotes the learning rate that helps to determine how quickly the algorithm\n",
    "    will converge to the optimal solution\n",
    "- iters denotes the number of iterations"
   ]
  },
  {
   "cell_type": "code",
   "execution_count": null,
   "metadata": {
    "id": "FBz7ob7vtRLr"
   },
   "outputs": [],
   "source": [
    "# take alpha 0.01 \n",
    "# iters=1000"
   ]
  },
  {
   "cell_type": "markdown",
   "metadata": {
    "id": "W3HlzF5pt_0Z"
   },
   "source": [
    "\n",
    "\n",
    "\n",
    "### Using Matplotlib library to visualize our solution using scatter plot"
   ]
  },
  {
   "cell_type": "code",
   "execution_count": null,
   "metadata": {
    "id": "gXP5psuyuAPr"
   },
   "outputs": [],
   "source": [
    "# linspace function will create an evenly-spaced series of points within the range of our data\n",
    "x = np.linspace(df.Population.min(), df.Population.max(), 100)  \n",
    "f = g[0, 0] + (g[0, 1] * x)\n",
    "\n",
    "fig, ax = plt.subplots(figsize=(10, 7))  \n",
    "ax.plot(x, f, 'r', label='Prediction')  \n",
    "ax.scatter(df.Population, df.Profit, label='Traning Data')  \n",
    "ax.legend(loc=2)  \n",
    "ax.set_xlabel('Population')  \n",
    "ax.set_ylabel('Profit')  \n",
    "ax.set_title('Predicted Profit vs. Population Size')\n"
   ]
  },
  {
   "cell_type": "code",
   "execution_count": null,
   "metadata": {
    "id": "iaOPcKBtuG7v"
   },
   "outputs": [],
   "source": [
    "fig, ax = plt.subplots(figsize = (12, 8))\n",
    "ax.plot(np.arange(iters), cost, 'r')\n",
    "ax.set_xlabel('Iterations')\n",
    "ax.set_ylabel('Cost')\n",
    "ax.set_title('Error vs Training epoch')"
   ]
  },
  {
   "cell_type": "markdown",
   "metadata": {
    "id": "jgmRYwlXWEX4"
   },
   "source": [
    "SCIKIT LEARN IMPLEMENTATION\n",
    "\n",
    "-Implement various type of errors,\n",
    " eg.Mean squared error,R_squared_score\n",
    "choose best for the evaluting model,\n",
    "and justify why it is best\n"
   ]
  },
  {
   "cell_type": "code",
   "execution_count": null,
   "metadata": {
    "id": "_-Z2iJXUWDvk"
   },
   "outputs": [],
   "source": [
    "#fit the model"
   ]
  },
  {
   "cell_type": "code",
   "execution_count": null,
   "metadata": {
    "id": "EKb8ME-ma-ex"
   },
   "outputs": [],
   "source": [
    "#predict the target values"
   ]
  },
  {
   "cell_type": "code",
   "execution_count": null,
   "metadata": {
    "id": "9mxBzwgnbF3Y"
   },
   "outputs": [],
   "source": [
    "#evalute the model"
   ]
  }
 ],
 "metadata": {
  "colab": {
   "provenance": []
  },
  "kernelspec": {
   "display_name": "Python 3 (ipykernel)",
   "language": "python",
   "name": "python3"
  },
  "language_info": {
   "codemirror_mode": {
    "name": "ipython",
    "version": 3
   },
   "file_extension": ".py",
   "mimetype": "text/x-python",
   "name": "python",
   "nbconvert_exporter": "python",
   "pygments_lexer": "ipython3",
   "version": "3.9.13"
  }
 },
 "nbformat": 4,
 "nbformat_minor": 1
}
