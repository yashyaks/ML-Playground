{
  "nbformat": 4,
  "nbformat_minor": 0,
  "metadata": {
    "colab": {
      "provenance": [],
      "include_colab_link": true
    },
    "kernelspec": {
      "name": "python3",
      "display_name": "Python 3"
    },
    "language_info": {
      "name": "python"
    }
  },
  "cells": [
    {
      "cell_type": "markdown",
      "metadata": {
        "id": "view-in-github",
        "colab_type": "text"
      },
      "source": [
        "<a href=\"https://colab.research.google.com/github/yashyaks/compute_tasks/blob/main/Task_6/Decision_Tree.ipynb\" target=\"_parent\"><img src=\"https://colab.research.google.com/assets/colab-badge.svg\" alt=\"Open In Colab\"/></a>"
      ]
    },
    {
      "cell_type": "markdown",
      "source": [
        "# Decision Tree "
      ],
      "metadata": {
        "id": "Hth-G5SWVh33"
      }
    },
    {
      "cell_type": "markdown",
      "source": [
        "[Dataset](https://drive.google.com/file/d/1EeorIZFT2JSM_KeFgnkwD_TqafeuoxNB/view?usp=sharing)"
      ],
      "metadata": {
        "id": "DcqkRYSVXONu"
      }
    },
    {
      "cell_type": "markdown",
      "source": [
        "The datasets consist of several medical predictor (independent) variables and one target (dependent) variable, Outcome. Independent variables include the number of pregnancies the patient has had, their BMI, insulin level, age, and so on."
      ],
      "metadata": {
        "id": "6Fn4KDmoXBKq"
      }
    },
    {
      "cell_type": "code",
      "execution_count": null,
      "metadata": {
        "id": "gC41NBhJUrRq"
      },
      "outputs": [],
      "source": [
        "# Load libraries\n",
        "import pandas as pd\n",
        "from sklearn.tree import DecisionTreeClassifier # Import Decision Tree Classifier\n",
        "from sklearn.model_selection import train_test_split # Import train_test_split function\n",
        "from sklearn import metrics #Import scikit-learn metrics module for accuracy calculation\n"
      ]
    },
    {
      "cell_type": "code",
      "source": [
        "from google.colab import drive\n",
        "drive.mount('/content/drive')"
      ],
      "metadata": {
        "id": "GHvpv0y3WDJ8"
      },
      "execution_count": null,
      "outputs": []
    },
    {
      "cell_type": "markdown",
      "source": [
        "**Loading Data**"
      ],
      "metadata": {
        "id": "m5wWc-TiXuKz"
      }
    },
    {
      "cell_type": "code",
      "source": [
        "\n",
        "# load dataset"
      ],
      "metadata": {
        "id": "xX0K_f9WV_Dp"
      },
      "execution_count": null,
      "outputs": []
    },
    {
      "cell_type": "markdown",
      "source": [
        "**Feature Selection**"
      ],
      "metadata": {
        "id": "ZcmpgPP7X34v"
      }
    },
    {
      "cell_type": "markdown",
      "source": [
        "Here, you need to divide given columns into two types of variables dependent(or target variable) and independent variable(or feature variables)."
      ],
      "metadata": {
        "id": "3zUOfrvRX63R"
      }
    },
    {
      "cell_type": "code",
      "source": [
        "#split dataset in features and target variable"
      ],
      "metadata": {
        "id": "L4SD8JvcX6T1"
      },
      "execution_count": null,
      "outputs": []
    },
    {
      "cell_type": "markdown",
      "source": [
        "**Splitting Data**"
      ],
      "metadata": {
        "id": "J1q4oOYRYmvT"
      }
    },
    {
      "cell_type": "code",
      "source": [
        "#train test split"
      ],
      "metadata": {
        "id": "xWDwpcsOYlnQ"
      },
      "execution_count": null,
      "outputs": []
    },
    {
      "cell_type": "markdown",
      "source": [
        "**Building Decision Tree Model**"
      ],
      "metadata": {
        "id": "4Wc4fxMUZI0j"
      }
    },
    {
      "cell_type": "markdown",
      "source": [
        "create a Decision Tree Model using Scikit-learn with default parametes"
      ],
      "metadata": {
        "id": "MO7Jy4CJZ4F4"
      }
    },
    {
      "cell_type": "code",
      "source": [
        "# Create Decision Tree classifer object\n",
        "\n",
        "# Train Decision Tree Classifer\n",
        "\n",
        "#Predict the response for test dataset\n"
      ],
      "metadata": {
        "id": "GbjPfDtBZDPE"
      },
      "execution_count": null,
      "outputs": []
    },
    {
      "cell_type": "markdown",
      "source": [
        "**Evaluating Model**"
      ],
      "metadata": {
        "id": "NR_pu5qPZ_3T"
      }
    },
    {
      "cell_type": "code",
      "source": [
        "# Model Accuracy, how often is the classifier correct?\n"
      ],
      "metadata": {
        "id": "hLcssuZAZOdD"
      },
      "execution_count": null,
      "outputs": []
    },
    {
      "cell_type": "markdown",
      "source": [
        "**Visualizing Decision Trees**"
      ],
      "metadata": {
        "id": "iMdK4m8KaYdg"
      }
    },
    {
      "cell_type": "markdown",
      "source": [
        "You can use Scikit-learn's export_graphviz function for display the tree within a Jupyter notebook. For plotting tree, you also need to install graphviz and pydotplus.\n",
        "\n"
      ],
      "metadata": {
        "id": "hVgNTFthahSX"
      }
    },
    {
      "cell_type": "code",
      "source": [
        "!pip install graphviz\n",
        "!pip install six\n",
        "!pip install pydotplus"
      ],
      "metadata": {
        "colab": {
          "base_uri": "https://localhost:8080/"
        },
        "id": "rFlb1u3PazWk",
        "outputId": "ebb52674-f0df-433f-d387-afe40a24846f"
      },
      "execution_count": null,
      "outputs": [
        {
          "output_type": "stream",
          "name": "stdout",
          "text": [
            "Looking in indexes: https://pypi.org/simple, https://us-python.pkg.dev/colab-wheels/public/simple/\n",
            "Requirement already satisfied: graphviz in /usr/local/lib/python3.8/dist-packages (0.10.1)\n",
            "Looking in indexes: https://pypi.org/simple, https://us-python.pkg.dev/colab-wheels/public/simple/\n",
            "Requirement already satisfied: six in /usr/local/lib/python3.8/dist-packages (1.15.0)\n",
            "Looking in indexes: https://pypi.org/simple, https://us-python.pkg.dev/colab-wheels/public/simple/\n",
            "Requirement already satisfied: pydotplus in /usr/local/lib/python3.8/dist-packages (2.0.2)\n",
            "Requirement already satisfied: pyparsing>=2.0.1 in /usr/local/lib/python3.8/dist-packages (from pydotplus) (3.0.9)\n"
          ]
        }
      ]
    },
    {
      "cell_type": "code",
      "source": [
        "from sklearn import tree\n",
        "import matplotlib.pyplot as plt\n",
        "import pydotplus\n",
        "\n"
      ],
      "metadata": {
        "colab": {
          "base_uri": "https://localhost:8080/",
          "height": 198
        },
        "id": "KSleQtPUawkB",
        "outputId": "454c6e2c-d45f-43f2-d441-d573b63be2ca"
      },
      "execution_count": null,
      "outputs": [
        {
          "output_type": "execute_result",
          "data": {
            "text/plain": [
              "<matplotlib.image.AxesImage at 0x7f99f9cf1be0>"
            ]
          },
          "metadata": {},
          "execution_count": 38
        },
        {
          "output_type": "display_data",
          "data": {
            "text/plain": [
              "<Figure size 432x288 with 1 Axes>"
            ],
            "image/png": "[encoded data removed]"
          },
          "metadata": {
            "needs_background": "light"
          }
        }
      ]
    },
    {
      "cell_type": "markdown",
      "source": [
        "**Optimizing Decision Tree Performance**"
      ],
      "metadata": {
        "id": "s1OH20NlarKE"
      }
    },
    {
      "cell_type": "markdown",
      "source": [
        "Try out different parameter values for optimizing the accuracy on max_deapth ,criterion etc"
      ],
      "metadata": {
        "id": "xWIgSLO1ePhj"
      }
    },
    {
      "cell_type": "code",
      "source": [
        "# Create Decision Tree classifer object\n",
        "\n",
        "# Train Decision Tree Classifer\n",
        "\n",
        "#Predict the response for test dataset\n",
        "\n",
        "# Model Accuracy, how often is the classifier correct?"
      ],
      "metadata": {
        "id": "aGhNVhLdaVMb"
      },
      "execution_count": null,
      "outputs": []
    },
    {
      "cell_type": "markdown",
      "source": [
        "**Visualizing Decision Trees**"
      ],
      "metadata": {
        "id": "ZBEG_Rk_esQa"
      }
    },
    {
      "cell_type": "code",
      "source": [],
      "metadata": {
        "id": "6gnevbMNesAL"
      },
      "execution_count": null,
      "outputs": []
    },
    {
      "cell_type": "markdown",
      "source": [
        "**Implement Random Forest**"
      ],
      "metadata": {
        "id": "qJt1QpdAgJD2"
      }
    },
    {
      "cell_type": "code",
      "source": [
        "from sklearn.ensemble import RandomForestClassifier\n"
      ],
      "metadata": {
        "id": "9XYVQCDhgTJP"
      },
      "execution_count": null,
      "outputs": []
    },
    {
      "cell_type": "code",
      "source": [
        "# Create RandomForest Tree classifer object\n",
        "\n",
        "# Train RandomForest Tree Classifer\n",
        "\n",
        "#Predict the response for test dataset\n",
        "\n",
        "# Model Accuracy, how often is the classifier correct?"
      ],
      "metadata": {
        "id": "tOWKjheCgRUt"
      },
      "execution_count": null,
      "outputs": []
    },
    {
      "cell_type": "markdown",
      "source": [
        "If the model overfitting try out different way to fix it!!"
      ],
      "metadata": {
        "id": "N-CNQnHmgd1w"
      }
    },
    {
      "cell_type": "code",
      "source": [],
      "metadata": {
        "id": "BshHQbblgx5Q"
      },
      "execution_count": null,
      "outputs": []
    },
    {
      "cell_type": "code",
      "source": [],
      "metadata": {
        "id": "uLS1Sla9gxrd"
      },
      "execution_count": null,
      "outputs": []
    },
    {
      "cell_type": "markdown",
      "source": [
        "### All the best!!! I hope you will Enjoy the Task!"
      ],
      "metadata": {
        "id": "Leh83E_MgmTU"
      }
    }
  ]
}