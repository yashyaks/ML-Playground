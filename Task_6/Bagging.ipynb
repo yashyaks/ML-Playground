{
  "nbformat": 4,
  "nbformat_minor": 0,
  "metadata": {
    "colab": {
      "provenance": [],
      "authorship_tag": "ABX9TyOBajxtPwzLhqSmJjX/8GQY",
      "include_colab_link": true
    },
    "kernelspec": {
      "name": "python3",
      "display_name": "Python 3"
    },
    "language_info": {
      "name": "python"
    }
  },
  "cells": [
    {
      "cell_type": "markdown",
      "metadata": {
        "id": "view-in-github",
        "colab_type": "text"
      },
      "source": [
        "<a href=\"https://colab.research.google.com/github/yashyaks/compute_tasks/blob/main/Task_6/Bagging.ipynb\" target=\"_parent\"><img src=\"https://colab.research.google.com/assets/colab-badge.svg\" alt=\"Open In Colab\"/></a>"
      ]
    },
    {
      "cell_type": "code",
      "execution_count": 32,
      "metadata": {
        "id": "Vd7h2AXDDPjw"
      },
      "outputs": [],
      "source": [
        "import pandas as pd\n",
        "import numpy as np"
      ]
    },
    {
      "cell_type": "code",
      "source": [
        "df=pd.read_csv('https://raw.githubusercontent.com/yashyaks/compute_tasks/main/Task_6/churndata_processed.csv')\n",
        "df.head()"
      ],
      "metadata": {
        "colab": {
          "base_uri": "https://localhost:8080/",
          "height": 317
        },
        "id": "_6pl2tUKU6V1",
        "outputId": "9f43f181-c24b-4c74-8bd7-53befcaf6124"
      },
      "execution_count": 6,
      "outputs": [
        {
          "output_type": "execute_result",
          "data": {
            "text/plain": [
              "   months  multiple    gb_mon  security  backup  protection  support  \\\n",
              "0    0.00         0  0.094118         0       0           1        0   \n",
              "1    0.00         1  0.200000         0       1           0        0   \n",
              "2    0.25         1  0.611765         0       0           0        0   \n",
              "3    0.25         0  0.141176         0       1           1        0   \n",
              "4    0.50         1  0.164706         0       0           0        0   \n",
              "\n",
              "   unlimited  contract  paperless  ...  payment_Credit Card  \\\n",
              "0          0       0.0          1  ...                    0   \n",
              "1          1       0.0          1  ...                    1   \n",
              "2          1       0.0          1  ...                    0   \n",
              "3          1       0.0          1  ...                    0   \n",
              "4          1       0.0          1  ...                    0   \n",
              "\n",
              "   payment_Mailed Check  internet_type_DSL  internet_type_Fiber Optic  \\\n",
              "0                     0                  1                          0   \n",
              "1                     0                  0                          1   \n",
              "2                     0                  0                          1   \n",
              "3                     0                  0                          1   \n",
              "4                     0                  0                          1   \n",
              "\n",
              "   internet_type_None  offer_Offer A  offer_Offer B  offer_Offer C  \\\n",
              "0                   0              0              0              0   \n",
              "1                   0              0              0              0   \n",
              "2                   0              0              0              0   \n",
              "3                   0              0              0              1   \n",
              "4                   0              0              0              1   \n",
              "\n",
              "   offer_Offer D  offer_Offer E  \n",
              "0              0              0  \n",
              "1              0              1  \n",
              "2              1              0  \n",
              "3              0              0  \n",
              "4              0              0  \n",
              "\n",
              "[5 rows x 23 columns]"
            ],
            "text/html": [
              "\n",
              "  <div id=\"df-a93759fb-5616-449d-abb6-99504b822453\">\n",
              "    <div class=\"colab-df-container\">\n",
              "      <div>\n",
              "<style scoped>\n",
              "    .dataframe tbody tr th:only-of-type {\n",
              "        vertical-align: middle;\n",
              "    }\n",
              "\n",
              "    .dataframe tbody tr th {\n",
              "        vertical-align: top;\n",
              "    }\n",
              "\n",
              "    .dataframe thead th {\n",
              "        text-align: right;\n",
              "    }\n",
              "</style>\n",
              "<table border=\"1\" class=\"dataframe\">\n",
              "  <thead>\n",
              "    <tr style=\"text-align: right;\">\n",
              "      <th></th>\n",
              "      <th>months</th>\n",
              "      <th>multiple</th>\n",
              "      <th>gb_mon</th>\n",
              "      <th>security</th>\n",
              "      <th>backup</th>\n",
              "      <th>protection</th>\n",
              "      <th>support</th>\n",
              "      <th>unlimited</th>\n",
              "      <th>contract</th>\n",
              "      <th>paperless</th>\n",
              "      <th>...</th>\n",
              "      <th>payment_Credit Card</th>\n",
              "      <th>payment_Mailed Check</th>\n",
              "      <th>internet_type_DSL</th>\n",
              "      <th>internet_type_Fiber Optic</th>\n",
              "      <th>internet_type_None</th>\n",
              "      <th>offer_Offer A</th>\n",
              "      <th>offer_Offer B</th>\n",
              "      <th>offer_Offer C</th>\n",
              "      <th>offer_Offer D</th>\n",
              "      <th>offer_Offer E</th>\n",
              "    </tr>\n",
              "  </thead>\n",
              "  <tbody>\n",
              "    <tr>\n",
              "      <th>0</th>\n",
              "      <td>0.00</td>\n",
              "      <td>0</td>\n",
              "      <td>0.094118</td>\n",
              "      <td>0</td>\n",
              "      <td>0</td>\n",
              "      <td>1</td>\n",
              "      <td>0</td>\n",
              "      <td>0</td>\n",
              "      <td>0.0</td>\n",
              "      <td>1</td>\n",
              "      <td>...</td>\n",
              "      <td>0</td>\n",
              "      <td>0</td>\n",
              "      <td>1</td>\n",
              "      <td>0</td>\n",
              "      <td>0</td>\n",
              "      <td>0</td>\n",
              "      <td>0</td>\n",
              "      <td>0</td>\n",
              "      <td>0</td>\n",
              "      <td>0</td>\n",
              "    </tr>\n",
              "    <tr>\n",
              "      <th>1</th>\n",
              "      <td>0.00</td>\n",
              "      <td>1</td>\n",
              "      <td>0.200000</td>\n",
              "      <td>0</td>\n",
              "      <td>1</td>\n",
              "      <td>0</td>\n",
              "      <td>0</td>\n",
              "      <td>1</td>\n",
              "      <td>0.0</td>\n",
              "      <td>1</td>\n",
              "      <td>...</td>\n",
              "      <td>1</td>\n",
              "      <td>0</td>\n",
              "      <td>0</td>\n",
              "      <td>1</td>\n",
              "      <td>0</td>\n",
              "      <td>0</td>\n",
              "      <td>0</td>\n",
              "      <td>0</td>\n",
              "      <td>0</td>\n",
              "      <td>1</td>\n",
              "    </tr>\n",
              "    <tr>\n",
              "      <th>2</th>\n",
              "      <td>0.25</td>\n",
              "      <td>1</td>\n",
              "      <td>0.611765</td>\n",
              "      <td>0</td>\n",
              "      <td>0</td>\n",
              "      <td>0</td>\n",
              "      <td>0</td>\n",
              "      <td>1</td>\n",
              "      <td>0.0</td>\n",
              "      <td>1</td>\n",
              "      <td>...</td>\n",
              "      <td>0</td>\n",
              "      <td>0</td>\n",
              "      <td>0</td>\n",
              "      <td>1</td>\n",
              "      <td>0</td>\n",
              "      <td>0</td>\n",
              "      <td>0</td>\n",
              "      <td>0</td>\n",
              "      <td>1</td>\n",
              "      <td>0</td>\n",
              "    </tr>\n",
              "    <tr>\n",
              "      <th>3</th>\n",
              "      <td>0.25</td>\n",
              "      <td>0</td>\n",
              "      <td>0.141176</td>\n",
              "      <td>0</td>\n",
              "      <td>1</td>\n",
              "      <td>1</td>\n",
              "      <td>0</td>\n",
              "      <td>1</td>\n",
              "      <td>0.0</td>\n",
              "      <td>1</td>\n",
              "      <td>...</td>\n",
              "      <td>0</td>\n",
              "      <td>0</td>\n",
              "      <td>0</td>\n",
              "      <td>1</td>\n",
              "      <td>0</td>\n",
              "      <td>0</td>\n",
              "      <td>0</td>\n",
              "      <td>1</td>\n",
              "      <td>0</td>\n",
              "      <td>0</td>\n",
              "    </tr>\n",
              "    <tr>\n",
              "      <th>4</th>\n",
              "      <td>0.50</td>\n",
              "      <td>1</td>\n",
              "      <td>0.164706</td>\n",
              "      <td>0</td>\n",
              "      <td>0</td>\n",
              "      <td>0</td>\n",
              "      <td>0</td>\n",
              "      <td>1</td>\n",
              "      <td>0.0</td>\n",
              "      <td>1</td>\n",
              "      <td>...</td>\n",
              "      <td>0</td>\n",
              "      <td>0</td>\n",
              "      <td>0</td>\n",
              "      <td>1</td>\n",
              "      <td>0</td>\n",
              "      <td>0</td>\n",
              "      <td>0</td>\n",
              "      <td>1</td>\n",
              "      <td>0</td>\n",
              "      <td>0</td>\n",
              "    </tr>\n",
              "  </tbody>\n",
              "</table>\n",
              "<p>5 rows × 23 columns</p>\n",
              "</div>\n",
              "      <button class=\"colab-df-convert\" onclick=\"convertToInteractive('df-a93759fb-5616-449d-abb6-99504b822453')\"\n",
              "              title=\"Convert this dataframe to an interactive table.\"\n",
              "              style=\"display:none;\">\n",
              "        \n",
              "  <svg xmlns=\"http://www.w3.org/2000/svg\" height=\"24px\"viewBox=\"0 0 24 24\"\n",
              "       width=\"24px\">\n",
              "    <path d=\"M0 0h24v24H0V0z\" fill=\"none\"/>\n",
              "    <path d=\"M18.56 5.44l.94 2.06.94-2.06 2.06-.94-2.06-.94-.94-2.06-.94 2.06-2.06.94zm-11 1L8.5 8.5l.94-2.06 2.06-.94-2.06-.94L8.5 2.5l-.94 2.06-2.06.94zm10 10l.94 2.06.94-2.06 2.06-.94-2.06-.94-.94-2.06-.94 2.06-2.06.94z\"/><path d=\"M17.41 7.96l-1.37-1.37c-.4-.4-.92-.59-1.43-.59-.52 0-1.04.2-1.43.59L10.3 9.45l-7.72 7.72c-.78.78-.78 2.05 0 2.83L4 21.41c.39.39.9.59 1.41.59.51 0 1.02-.2 1.41-.59l7.78-7.78 2.81-2.81c.8-.78.8-2.07 0-2.86zM5.41 20L4 18.59l7.72-7.72 1.47 1.35L5.41 20z\"/>\n",
              "  </svg>\n",
              "      </button>\n",
              "      \n",
              "  <style>\n",
              "    .colab-df-container {\n",
              "      display:flex;\n",
              "      flex-wrap:wrap;\n",
              "      gap: 12px;\n",
              "    }\n",
              "\n",
              "    .colab-df-convert {\n",
              "      background-color: #E8F0FE;\n",
              "      border: none;\n",
              "      border-radius: 50%;\n",
              "      cursor: pointer;\n",
              "      display: none;\n",
              "      fill: #1967D2;\n",
              "      height: 32px;\n",
              "      padding: 0 0 0 0;\n",
              "      width: 32px;\n",
              "    }\n",
              "\n",
              "    .colab-df-convert:hover {\n",
              "      background-color: #E2EBFA;\n",
              "      box-shadow: 0px 1px 2px rgba(60, 64, 67, 0.3), 0px 1px 3px 1px rgba(60, 64, 67, 0.15);\n",
              "      fill: #174EA6;\n",
              "    }\n",
              "\n",
              "    [theme=dark] .colab-df-convert {\n",
              "      background-color: #3B4455;\n",
              "      fill: #D2E3FC;\n",
              "    }\n",
              "\n",
              "    [theme=dark] .colab-df-convert:hover {\n",
              "      background-color: #434B5C;\n",
              "      box-shadow: 0px 1px 3px 1px rgba(0, 0, 0, 0.15);\n",
              "      filter: drop-shadow(0px 1px 2px rgba(0, 0, 0, 0.3));\n",
              "      fill: #FFFFFF;\n",
              "    }\n",
              "  </style>\n",
              "\n",
              "      <script>\n",
              "        const buttonEl =\n",
              "          document.querySelector('#df-a93759fb-5616-449d-abb6-99504b822453 button.colab-df-convert');\n",
              "        buttonEl.style.display =\n",
              "          google.colab.kernel.accessAllowed ? 'block' : 'none';\n",
              "\n",
              "        async function convertToInteractive(key) {\n",
              "          const element = document.querySelector('#df-a93759fb-5616-449d-abb6-99504b822453');\n",
              "          const dataTable =\n",
              "            await google.colab.kernel.invokeFunction('convertToInteractive',\n",
              "                                                     [key], {});\n",
              "          if (!dataTable) return;\n",
              "\n",
              "          const docLinkHtml = 'Like what you see? Visit the ' +\n",
              "            '<a target=\"_blank\" href=https://colab.research.google.com/notebooks/data_table.ipynb>data table notebook</a>'\n",
              "            + ' to learn more about interactive tables.';\n",
              "          element.innerHTML = '';\n",
              "          dataTable['output_type'] = 'display_data';\n",
              "          await google.colab.output.renderOutput(dataTable, element);\n",
              "          const docLink = document.createElement('div');\n",
              "          docLink.innerHTML = docLinkHtml;\n",
              "          element.appendChild(docLink);\n",
              "        }\n",
              "      </script>\n",
              "    </div>\n",
              "  </div>\n",
              "  "
            ]
          },
          "metadata": {},
          "execution_count": 6
        }
      ]
    },
    {
      "cell_type": "code",
      "source": [
        "df.info()"
      ],
      "metadata": {
        "colab": {
          "base_uri": "https://localhost:8080/"
        },
        "id": "tdR0pBThVFlj",
        "outputId": "15c37549-6471-41a5-f04e-e71c9dc045f3"
      },
      "execution_count": 7,
      "outputs": [
        {
          "output_type": "stream",
          "name": "stdout",
          "text": [
            "<class 'pandas.core.frame.DataFrame'>\n",
            "RangeIndex: 7043 entries, 0 to 7042\n",
            "Data columns (total 23 columns):\n",
            " #   Column                     Non-Null Count  Dtype  \n",
            "---  ------                     --------------  -----  \n",
            " 0   months                     7043 non-null   float64\n",
            " 1   multiple                   7043 non-null   int64  \n",
            " 2   gb_mon                     7043 non-null   float64\n",
            " 3   security                   7043 non-null   int64  \n",
            " 4   backup                     7043 non-null   int64  \n",
            " 5   protection                 7043 non-null   int64  \n",
            " 6   support                    7043 non-null   int64  \n",
            " 7   unlimited                  7043 non-null   int64  \n",
            " 8   contract                   7043 non-null   float64\n",
            " 9   paperless                  7043 non-null   int64  \n",
            " 10  monthly                    7043 non-null   float64\n",
            " 11  satisfaction               7043 non-null   float64\n",
            " 12  churn_value                7043 non-null   int64  \n",
            " 13  payment_Credit Card        7043 non-null   int64  \n",
            " 14  payment_Mailed Check       7043 non-null   int64  \n",
            " 15  internet_type_DSL          7043 non-null   int64  \n",
            " 16  internet_type_Fiber Optic  7043 non-null   int64  \n",
            " 17  internet_type_None         7043 non-null   int64  \n",
            " 18  offer_Offer A              7043 non-null   int64  \n",
            " 19  offer_Offer B              7043 non-null   int64  \n",
            " 20  offer_Offer C              7043 non-null   int64  \n",
            " 21  offer_Offer D              7043 non-null   int64  \n",
            " 22  offer_Offer E              7043 non-null   int64  \n",
            "dtypes: float64(5), int64(18)\n",
            "memory usage: 1.2 MB\n"
          ]
        }
      ]
    },
    {
      "cell_type": "code",
      "source": [
        "features = df1.drop(['churn_value'],axis=1).values\n",
        "target = df['churn_value']"
      ],
      "metadata": {
        "id": "28AIZrqAVJw8"
      },
      "execution_count": 28,
      "outputs": []
    },
    {
      "cell_type": "code",
      "source": [
        "import seaborn as sns\n",
        "import matplotlib.pyplot as plt\n",
        "f = sns.countplot(x = target)\n",
        "\n",
        "plt.title('Frequency of Target Variable')\n",
        "plt.xlabel('Value of Target Variable ')\n",
        "plt.ylabel('Frequency')\n",
        "\n",
        "for i in f.patches:\n",
        "   f.annotate('{:.1f}'.format(i.get_height()), (i.get_x()+0.25, i.get_height()+0.01))\n",
        "\n",
        "plt.show()"
      ],
      "metadata": {
        "colab": {
          "base_uri": "https://localhost:8080/",
          "height": 295
        },
        "id": "9laGysXgVVni",
        "outputId": "1590692e-fd51-4f25-d9ee-82048d80aede"
      },
      "execution_count": 19,
      "outputs": [
        {
          "output_type": "display_data",
          "data": {
            "text/plain": [
              "<Figure size 432x288 with 1 Axes>"
            ],
            "image/png": "[encoded data removed]"
          },
          "metadata": {
            "needs_background": "light"
          }
        }
      ]
    },
    {
      "cell_type": "markdown",
      "source": [
        "IMBALANCED DATASET"
      ],
      "metadata": {
        "id": "_MwDeipAjZgy"
      }
    },
    {
      "cell_type": "code",
      "source": [
        "from sklearn.model_selection import train_test_split"
      ],
      "metadata": {
        "id": "Xga1C-VsVh4F"
      },
      "execution_count": 20,
      "outputs": []
    },
    {
      "cell_type": "code",
      "source": [
        "from sklearn.utils import resample"
      ],
      "metadata": {
        "id": "v5_kWcuDjb16"
      },
      "execution_count": 21,
      "outputs": []
    },
    {
      "cell_type": "code",
      "source": [
        "dfmajority=df[df['churn_value']==0]\n",
        "dfminority=df[df['churn_value']==1]\n",
        "dfsampled=resample(dfminority,replace=True,n_samples=5174,random_state=50)"
      ],
      "metadata": {
        "id": "xISO153Njdkb"
      },
      "execution_count": 22,
      "outputs": []
    },
    {
      "cell_type": "code",
      "source": [
        "df1=pd.concat([dfsampled,dfmajority])"
      ],
      "metadata": {
        "id": "p8ByiiNzjjeF"
      },
      "execution_count": 25,
      "outputs": []
    },
    {
      "cell_type": "code",
      "source": [
        "df1['churn_value'].value_counts()"
      ],
      "metadata": {
        "colab": {
          "base_uri": "https://localhost:8080/"
        },
        "id": "ElIxpStjjtT-",
        "outputId": "1563e1c4-7ee6-49c8-b4b5-971b52922cd6"
      },
      "execution_count": 24,
      "outputs": [
        {
          "output_type": "execute_result",
          "data": {
            "text/plain": [
              "1    5174\n",
              "0    5174\n",
              "Name: churn_value, dtype: int64"
            ]
          },
          "metadata": {},
          "execution_count": 24
        }
      ]
    },
    {
      "cell_type": "code",
      "source": [
        "x=df1.drop(['churn_value'],axis=1).values\n",
        "y=df1.loc[:,'churn_value'].values\n",
        "x"
      ],
      "metadata": {
        "colab": {
          "base_uri": "https://localhost:8080/"
        },
        "id": "zCZb2D4Jjvwn",
        "outputId": "6ff25cd6-79c8-412c-c2fe-0eca40ad7728"
      },
      "execution_count": 30,
      "outputs": [
        {
          "output_type": "execute_result",
          "data": {
            "text/plain": [
              "array([[1.        , 1.        , 0.83529412, ..., 0.        , 0.        ,\n",
              "        0.        ],\n",
              "       [1.        , 1.        , 0.03529412, ..., 0.        , 0.        ,\n",
              "        0.        ],\n",
              "       [0.        , 0.        , 0.17647059, ..., 0.        , 0.        ,\n",
              "        1.        ],\n",
              "       ...,\n",
              "       [1.        , 1.        , 0.69411765, ..., 0.        , 0.        ,\n",
              "        0.        ],\n",
              "       [0.        , 0.        , 0.2       , ..., 0.        , 0.        ,\n",
              "        0.        ],\n",
              "       [1.        , 0.        , 0.12941176, ..., 0.        , 0.        ,\n",
              "        0.        ]])"
            ]
          },
          "metadata": {},
          "execution_count": 30
        }
      ]
    },
    {
      "cell_type": "code",
      "source": [
        "x_train,x_test,y_train,y_test=train_test_split(x,y,test_size=0.2,random_state=69)"
      ],
      "metadata": {
        "id": "G-xXrPKYj63H"
      },
      "execution_count": 31,
      "outputs": []
    },
    {
      "cell_type": "code",
      "source": [
        "from sklearn.ensemble import BaggingClassifier\n",
        "from sklearn.tree import DecisionTreeClassifier\n",
        "from sklearn.metrics import accuracy_score\n",
        "\n",
        "estimator_range=np.arange(5,50,1)\n",
        "model = []\n",
        "score = []\n",
        "for n_estimators in estimator_range:\n",
        "\n",
        "\n",
        "    clf = BaggingClassifier(base_estimator=DecisionTreeClassifier(),n_estimators = n_estimators, random_state = 69)\n",
        "\n",
        "\n",
        "    clf.fit(x_train, y_train)\n",
        "\n",
        "    # Append the model and score to their respective list\n",
        "    model.append(clf)\n",
        "    score.append(accuracy_score(y_true = y_test, y_pred = clf.predict(x_test)))"
      ],
      "metadata": {
        "id": "r0j2ZOQBkK5R"
      },
      "execution_count": 36,
      "outputs": []
    },
    {
      "cell_type": "code",
      "source": [
        "max(score)"
      ],
      "metadata": {
        "id": "X0I7R-yFmr92",
        "outputId": "2ad39241-6787-48d3-9a8f-6342917e055c",
        "colab": {
          "base_uri": "https://localhost:8080/"
        }
      },
      "execution_count": 38,
      "outputs": [
        {
          "output_type": "execute_result",
          "data": {
            "text/plain": [
              "0.9753623188405797"
            ]
          },
          "metadata": {},
          "execution_count": 38
        }
      ]
    },
    {
      "cell_type": "code",
      "source": [
        "y_pred=clf.predict(x_train)\n",
        "accuracy_score(y_train,y_pred)"
      ],
      "metadata": {
        "id": "_qrJvxVPnERk",
        "outputId": "81d05645-d6e6-4c8b-a720-dba0724271af",
        "colab": {
          "base_uri": "https://localhost:8080/"
        }
      },
      "execution_count": 39,
      "outputs": [
        {
          "output_type": "execute_result",
          "data": {
            "text/plain": [
              "0.9990335829910606"
            ]
          },
          "metadata": {},
          "execution_count": 39
        }
      ]
    },
    {
      "cell_type": "code",
      "source": [],
      "metadata": {
        "id": "PcmCVVTjngTf"
      },
      "execution_count": null,
      "outputs": []
    }
  ]
}