{
  "nbformat": 4,
  "nbformat_minor": 0,
  "metadata": {
    "colab": {
      "provenance": [],
      "include_colab_link": true
    },
    "kernelspec": {
      "name": "python3",
      "display_name": "Python 3"
    },
    "language_info": {
      "name": "python"
    }
  },
  "cells": [
    {
      "cell_type": "markdown",
      "metadata": {
        "id": "view-in-github",
        "colab_type": "text"
      },
      "source": [
        "<a href=\"https://colab.research.google.com/github/yashyaks/compute_tasks/blob/main/Task_6/Boosting.ipynb\" target=\"_parent\"><img src=\"https://colab.research.google.com/assets/colab-badge.svg\" alt=\"Open In Colab\"/></a>"
      ]
    },
    {
      "cell_type": "markdown",
      "source": [
        "# Boosting task"
      ],
      "metadata": {
        "id": "kn9L3ZRDnLpi"
      }
    },
    {
      "cell_type": "markdown",
      "source": [
        "Make a copy of this colab file and follow the instructions to complete the task. You are expected to complete the entire task and it would be appreciated if you did more than what is aksed from you. \n"
      ],
      "metadata": {
        "id": "UtonemLUnUgu"
      }
    },
    {
      "cell_type": "markdown",
      "source": [
        "ALL THE BEST!"
      ],
      "metadata": {
        "id": "h-R1u6eknvqp"
      }
    },
    {
      "cell_type": "markdown",
      "source": [
        "Importing necessary libraries"
      ],
      "metadata": {
        "id": "ntiwtBTZgr4P"
      }
    },
    {
      "cell_type": "code",
      "execution_count": null,
      "metadata": {
        "id": "kyPOE_95fZPk"
      },
      "outputs": [],
      "source": [
        "import pandas as pd\n",
        "import numpy as np\n",
        "import matplotlib.pyplot as plt\n",
        "import seaborn as sns\n",
        "from sklearn.metrics import mean_squared_error\n",
        "import xgboost as xgb\n",
        "\n",
        "\n",
        "colour = sns.color_palette()"
      ]
    },
    {
      "cell_type": "markdown",
      "source": [
        "Reading and converting data into a date-time format"
      ],
      "metadata": {
        "id": "8lXClU7Vgw6a"
      }
    },
    {
      "cell_type": "code",
      "source": [
        "df = pd.read_csv('AEP_hourly.csv')\n",
        "df = df.set_index('Datetime')\n",
        "df.index = pd.to_datetime(df.index)\n",
        "df"
      ],
      "metadata": {
        "colab": {
          "base_uri": "https://localhost:8080/",
          "height": 455
        },
        "id": "SdsNuHMWnEQf",
        "outputId": "b663d6e4-1c5a-4de1-cb0d-e9be3fede84c"
      },
      "execution_count": null,
      "outputs": [
        {
          "output_type": "execute_result",
          "data": {
            "text/plain": [
              "                      AEP_MW\n",
              "Datetime                    \n",
              "2004-12-31 01:00:00  13478.0\n",
              "2004-12-31 02:00:00  12865.0\n",
              "2004-12-31 03:00:00  12577.0\n",
              "2004-12-31 04:00:00  12517.0\n",
              "2004-12-31 05:00:00  12670.0\n",
              "...                      ...\n",
              "2018-01-01 20:00:00  21089.0\n",
              "2018-01-01 21:00:00  20999.0\n",
              "2018-01-01 22:00:00  20820.0\n",
              "2018-01-01 23:00:00  20415.0\n",
              "2018-01-02 00:00:00  19993.0\n",
              "\n",
              "[121273 rows x 1 columns]"
            ],
            "text/html": [
              "\n",
              "  <div id=\"df-4b213350-6c4c-4429-8506-f698945e0e49\">\n",
              "    <div class=\"colab-df-container\">\n",
              "      <div>\n",
              "<style scoped>\n",
              "    .dataframe tbody tr th:only-of-type {\n",
              "        vertical-align: middle;\n",
              "    }\n",
              "\n",
              "    .dataframe tbody tr th {\n",
              "        vertical-align: top;\n",
              "    }\n",
              "\n",
              "    .dataframe thead th {\n",
              "        text-align: right;\n",
              "    }\n",
              "</style>\n",
              "<table border=\"1\" class=\"dataframe\">\n",
              "  <thead>\n",
              "    <tr style=\"text-align: right;\">\n",
              "      <th></th>\n",
              "      <th>AEP_MW</th>\n",
              "    </tr>\n",
              "    <tr>\n",
              "      <th>Datetime</th>\n",
              "      <th></th>\n",
              "    </tr>\n",
              "  </thead>\n",
              "  <tbody>\n",
              "    <tr>\n",
              "      <th>2004-12-31 01:00:00</th>\n",
              "      <td>13478.0</td>\n",
              "    </tr>\n",
              "    <tr>\n",
              "      <th>2004-12-31 02:00:00</th>\n",
              "      <td>12865.0</td>\n",
              "    </tr>\n",
              "    <tr>\n",
              "      <th>2004-12-31 03:00:00</th>\n",
              "      <td>12577.0</td>\n",
              "    </tr>\n",
              "    <tr>\n",
              "      <th>2004-12-31 04:00:00</th>\n",
              "      <td>12517.0</td>\n",
              "    </tr>\n",
              "    <tr>\n",
              "      <th>2004-12-31 05:00:00</th>\n",
              "      <td>12670.0</td>\n",
              "    </tr>\n",
              "    <tr>\n",
              "      <th>...</th>\n",
              "      <td>...</td>\n",
              "    </tr>\n",
              "    <tr>\n",
              "      <th>2018-01-01 20:00:00</th>\n",
              "      <td>21089.0</td>\n",
              "    </tr>\n",
              "    <tr>\n",
              "      <th>2018-01-01 21:00:00</th>\n",
              "      <td>20999.0</td>\n",
              "    </tr>\n",
              "    <tr>\n",
              "      <th>2018-01-01 22:00:00</th>\n",
              "      <td>20820.0</td>\n",
              "    </tr>\n",
              "    <tr>\n",
              "      <th>2018-01-01 23:00:00</th>\n",
              "      <td>20415.0</td>\n",
              "    </tr>\n",
              "    <tr>\n",
              "      <th>2018-01-02 00:00:00</th>\n",
              "      <td>19993.0</td>\n",
              "    </tr>\n",
              "  </tbody>\n",
              "</table>\n",
              "<p>121273 rows × 1 columns</p>\n",
              "</div>\n",
              "      <button class=\"colab-df-convert\" onclick=\"convertToInteractive('df-4b213350-6c4c-4429-8506-f698945e0e49')\"\n",
              "              title=\"Convert this dataframe to an interactive table.\"\n",
              "              style=\"display:none;\">\n",
              "        \n",
              "  <svg xmlns=\"http://www.w3.org/2000/svg\" height=\"24px\"viewBox=\"0 0 24 24\"\n",
              "       width=\"24px\">\n",
              "    <path d=\"M0 0h24v24H0V0z\" fill=\"none\"/>\n",
              "    <path d=\"M18.56 5.44l.94 2.06.94-2.06 2.06-.94-2.06-.94-.94-2.06-.94 2.06-2.06.94zm-11 1L8.5 8.5l.94-2.06 2.06-.94-2.06-.94L8.5 2.5l-.94 2.06-2.06.94zm10 10l.94 2.06.94-2.06 2.06-.94-2.06-.94-.94-2.06-.94 2.06-2.06.94z\"/><path d=\"M17.41 7.96l-1.37-1.37c-.4-.4-.92-.59-1.43-.59-.52 0-1.04.2-1.43.59L10.3 9.45l-7.72 7.72c-.78.78-.78 2.05 0 2.83L4 21.41c.39.39.9.59 1.41.59.51 0 1.02-.2 1.41-.59l7.78-7.78 2.81-2.81c.8-.78.8-2.07 0-2.86zM5.41 20L4 18.59l7.72-7.72 1.47 1.35L5.41 20z\"/>\n",
              "  </svg>\n",
              "      </button>\n",
              "      \n",
              "  <style>\n",
              "    .colab-df-container {\n",
              "      display:flex;\n",
              "      flex-wrap:wrap;\n",
              "      gap: 12px;\n",
              "    }\n",
              "\n",
              "    .colab-df-convert {\n",
              "      background-color: #E8F0FE;\n",
              "      border: none;\n",
              "      border-radius: 50%;\n",
              "      cursor: pointer;\n",
              "      display: none;\n",
              "      fill: #1967D2;\n",
              "      height: 32px;\n",
              "      padding: 0 0 0 0;\n",
              "      width: 32px;\n",
              "    }\n",
              "\n",
              "    .colab-df-convert:hover {\n",
              "      background-color: #E2EBFA;\n",
              "      box-shadow: 0px 1px 2px rgba(60, 64, 67, 0.3), 0px 1px 3px 1px rgba(60, 64, 67, 0.15);\n",
              "      fill: #174EA6;\n",
              "    }\n",
              "\n",
              "    [theme=dark] .colab-df-convert {\n",
              "      background-color: #3B4455;\n",
              "      fill: #D2E3FC;\n",
              "    }\n",
              "\n",
              "    [theme=dark] .colab-df-convert:hover {\n",
              "      background-color: #434B5C;\n",
              "      box-shadow: 0px 1px 3px 1px rgba(0, 0, 0, 0.15);\n",
              "      filter: drop-shadow(0px 1px 2px rgba(0, 0, 0, 0.3));\n",
              "      fill: #FFFFFF;\n",
              "    }\n",
              "  </style>\n",
              "\n",
              "      <script>\n",
              "        const buttonEl =\n",
              "          document.querySelector('#df-4b213350-6c4c-4429-8506-f698945e0e49 button.colab-df-convert');\n",
              "        buttonEl.style.display =\n",
              "          google.colab.kernel.accessAllowed ? 'block' : 'none';\n",
              "\n",
              "        async function convertToInteractive(key) {\n",
              "          const element = document.querySelector('#df-4b213350-6c4c-4429-8506-f698945e0e49');\n",
              "          const dataTable =\n",
              "            await google.colab.kernel.invokeFunction('convertToInteractive',\n",
              "                                                     [key], {});\n",
              "          if (!dataTable) return;\n",
              "\n",
              "          const docLinkHtml = 'Like what you see? Visit the ' +\n",
              "            '<a target=\"_blank\" href=https://colab.research.google.com/notebooks/data_table.ipynb>data table notebook</a>'\n",
              "            + ' to learn more about interactive tables.';\n",
              "          element.innerHTML = '';\n",
              "          dataTable['output_type'] = 'display_data';\n",
              "          await google.colab.output.renderOutput(dataTable, element);\n",
              "          const docLink = document.createElement('div');\n",
              "          docLink.innerHTML = docLinkHtml;\n",
              "          element.appendChild(docLink);\n",
              "        }\n",
              "      </script>\n",
              "    </div>\n",
              "  </div>\n",
              "  "
            ]
          },
          "metadata": {},
          "execution_count": 37
        }
      ]
    },
    {
      "cell_type": "markdown",
      "source": [
        "Plot the data: "
      ],
      "metadata": {
        "id": "FnP6q_oug3hW"
      }
    },
    {
      "cell_type": "code",
      "source": [],
      "metadata": {
        "id": "QEJ4Nytwm8oi"
      },
      "execution_count": null,
      "outputs": []
    },
    {
      "cell_type": "markdown",
      "source": [
        "## Data splitting"
      ],
      "metadata": {
        "id": "5r8G-Bq6g8uE"
      }
    },
    {
      "cell_type": "markdown",
      "source": [
        "Split the data into training and testing data, split data at 01-01-2016"
      ],
      "metadata": {
        "id": "wGZ7Pz4nhGvR"
      }
    },
    {
      "cell_type": "code",
      "source": [],
      "metadata": {
        "id": "2zFGb409m7XV"
      },
      "execution_count": null,
      "outputs": []
    },
    {
      "cell_type": "markdown",
      "source": [
        "plot the train and test data"
      ],
      "metadata": {
        "id": "jyvUGuIRhSei"
      }
    },
    {
      "cell_type": "code",
      "source": [],
      "metadata": {
        "id": "ldknv4dim6TI"
      },
      "execution_count": null,
      "outputs": []
    },
    {
      "cell_type": "markdown",
      "source": [
        "Plot data for a random week AND day, to visualize weekly and daily variations in data"
      ],
      "metadata": {
        "id": "3uQIOFvqiF2o"
      }
    },
    {
      "cell_type": "code",
      "source": [],
      "metadata": {
        "id": "jUFAgbCnm44n"
      },
      "execution_count": null,
      "outputs": []
    },
    {
      "cell_type": "code",
      "source": [],
      "metadata": {
        "id": "b_nCO5Pgm4zV"
      },
      "execution_count": null,
      "outputs": []
    },
    {
      "cell_type": "markdown",
      "source": [
        "## Feature Creation\n"
      ],
      "metadata": {
        "id": "wWPzsPwsiW8e"
      }
    },
    {
      "cell_type": "markdown",
      "source": [
        "Create different features for: hour, day, month, year, week and append it to the data-frame"
      ],
      "metadata": {
        "id": "64SDcp0siZmG"
      }
    },
    {
      "cell_type": "code",
      "source": [],
      "metadata": {
        "id": "gaEltl_Hm2Ry"
      },
      "execution_count": null,
      "outputs": []
    },
    {
      "cell_type": "markdown",
      "source": [
        "Make boxplots to depict energy consumption hourly and monthly.(x variable would be hour and month and y variable would be the feature 'AEP_MW'"
      ],
      "metadata": {
        "id": "RMkJsDGojBwe"
      }
    },
    {
      "cell_type": "code",
      "source": [],
      "metadata": {
        "id": "mo29TXIBm1EF"
      },
      "execution_count": null,
      "outputs": []
    },
    {
      "cell_type": "code",
      "source": [],
      "metadata": {
        "id": "lK6t94jom06b"
      },
      "execution_count": null,
      "outputs": []
    },
    {
      "cell_type": "markdown",
      "source": [
        "## Model Creation andEestimation"
      ],
      "metadata": {
        "id": "xRZiHq4yjfQ1"
      }
    },
    {
      "cell_type": "markdown",
      "source": [
        "Run a regression XGBoost model on the training and testing data-set. Take 1000 estimators and learnning rate as 0.01 "
      ],
      "metadata": {
        "id": "v0L1Jqgfjxku"
      }
    },
    {
      "cell_type": "code",
      "source": [],
      "metadata": {
        "id": "-3-GGvsWmtjs"
      },
      "execution_count": null,
      "outputs": []
    },
    {
      "cell_type": "markdown",
      "source": [
        "Predict values for the testing set using the model and plot them"
      ],
      "metadata": {
        "id": "Q7fVn-eemNa8"
      }
    },
    {
      "cell_type": "code",
      "source": [],
      "metadata": {
        "id": "3qeuesRqmqN-"
      },
      "execution_count": null,
      "outputs": []
    },
    {
      "cell_type": "markdown",
      "source": [
        "Use RMSE to find out the accuracy of your model"
      ],
      "metadata": {
        "id": "hW9CRVB_mbZe"
      }
    },
    {
      "cell_type": "code",
      "source": [],
      "metadata": {
        "id": "2WQsxBuTlloI"
      },
      "execution_count": null,
      "outputs": []
    },
    {
      "cell_type": "markdown",
      "source": [
        "Find the importance of each feature use"
      ],
      "metadata": {
        "id": "CfPgJaRvmhYq"
      }
    },
    {
      "cell_type": "code",
      "source": [],
      "metadata": {
        "id": "MmtVRfWHmlfL"
      },
      "execution_count": null,
      "outputs": []
    }
  ]
}