{
  "nbformat": 4,
  "nbformat_minor": 0,
  "metadata": {
    "colab": {
      "provenance": [],
      "include_colab_link": true
    },
    "kernelspec": {
      "name": "python3",
      "display_name": "Python 3"
    },
    "language_info": {
      "name": "python"
    }
  },
  "cells": [
    {
      "cell_type": "markdown",
      "metadata": {
        "id": "view-in-github",
        "colab_type": "text"
      },
      "source": [
        "<a href=\"https://colab.research.google.com/github/yashyaks/ML-Playground/blob/main/ML2/ML2_Lab1.ipynb\" target=\"_parent\"><img src=\"https://colab.research.google.com/assets/colab-badge.svg\" alt=\"Open In Colab\"/></a>"
      ]
    },
    {
      "cell_type": "markdown",
      "source": [
        "AND Gate"
      ],
      "metadata": {
        "id": "ZNiNv7zG83Lg"
      }
    },
    {
      "cell_type": "code",
      "execution_count": 1,
      "metadata": {
        "id": "gTxGX2vw34O1"
      },
      "outputs": [],
      "source": [
        "import numpy as np"
      ]
    },
    {
      "cell_type": "code",
      "source": [
        "test1 = np.array([0,0])\n",
        "test2 = np.array([0,1])\n",
        "test3 = np.array([1,0])\n",
        "test4 = np.array([1,1])"
      ],
      "metadata": {
        "id": "v9SuCSaP82NH"
      },
      "execution_count": null,
      "outputs": []
    },
    {
      "cell_type": "code",
      "source": [
        "def AND_function (x):\n",
        "  w = np.array([1,1])\n",
        "  b = -2\n",
        "  y_in = np.dot(x,w) + b\n",
        "  y_hat = step_function (y_in)\n",
        "  return y_hat\n",
        "def step_function(y_in):\n",
        "  if y_in >= 0:\n",
        "    return 1\n",
        "  else:\n",
        "    return 0"
      ],
      "metadata": {
        "id": "EvjDtxWG82PP"
      },
      "execution_count": null,
      "outputs": []
    },
    {
      "cell_type": "code",
      "source": [
        "print(AND_function(test1))\n",
        "print(AND_function(test2))\n",
        "print(AND_function(test3))\n",
        "print(AND_function(test4))"
      ],
      "metadata": {
        "colab": {
          "base_uri": "https://localhost:8080/"
        },
        "id": "q72NqgXO82Re",
        "outputId": "128cb187-2645-4e9f-93c5-20fa2aa93e22"
      },
      "execution_count": null,
      "outputs": [
        {
          "output_type": "stream",
          "name": "stdout",
          "text": [
            "0\n",
            "0\n",
            "0\n",
            "1\n"
          ]
        }
      ]
    },
    {
      "cell_type": "markdown",
      "source": [
        "OR Gate"
      ],
      "metadata": {
        "id": "o2Gt8WWM-9yS"
      }
    },
    {
      "cell_type": "code",
      "source": [
        "def OR_function(x):\n",
        "  w= np.array([1,1])\n",
        "  b = -0.5\n",
        "  y_in = np.dot(x,w) + b\n",
        "  y_hat = step_function(y_in)\n",
        "  return y_hat\n",
        "def step_function(y_in):\n",
        "  if y_in >= 0:\n",
        "    return 1\n",
        "  else:\n",
        "    return 0"
      ],
      "metadata": {
        "id": "D__8ZTI3-8Z1"
      },
      "execution_count": null,
      "outputs": []
    },
    {
      "cell_type": "code",
      "source": [
        "print(OR_function(test1))\n",
        "print(OR_function(test2))\n",
        "print(OR_function(test3))\n",
        "print(OR_function(test4))"
      ],
      "metadata": {
        "colab": {
          "base_uri": "https://localhost:8080/"
        },
        "id": "2hJXlwfR-8YR",
        "outputId": "1accb4e0-477d-4003-b93d-099740634bff"
      },
      "execution_count": null,
      "outputs": [
        {
          "output_type": "stream",
          "name": "stdout",
          "text": [
            "0\n",
            "1\n",
            "1\n",
            "1\n"
          ]
        }
      ]
    },
    {
      "cell_type": "markdown",
      "source": [
        "NOT Gate"
      ],
      "metadata": {
        "id": "cZHh3_HMG6uM"
      }
    },
    {
      "cell_type": "code",
      "source": [
        "def NOT_function (x) :\n",
        "  w = np.array([-1])\n",
        "  b = 0.5\n",
        "  y_in = np.dot(x,w) + b\n",
        "  y_hat = step_function (y_in)\n",
        "  return y_hat\n",
        "def step_function(y_in):\n",
        "  if y_in >= 0:\n",
        "    return 1\n",
        "  else:\n",
        "    return 0"
      ],
      "metadata": {
        "id": "auBOQSwf-8Vs"
      },
      "execution_count": null,
      "outputs": []
    },
    {
      "cell_type": "code",
      "source": [
        "print(NOT_function(1))\n",
        "print(NOT_function(0))"
      ],
      "metadata": {
        "colab": {
          "base_uri": "https://localhost:8080/"
        },
        "id": "O0-wSUP--8Rm",
        "outputId": "1022fefa-78a2-4744-8e6a-00a58cbc2112"
      },
      "execution_count": null,
      "outputs": [
        {
          "output_type": "stream",
          "name": "stdout",
          "text": [
            "0\n",
            "1\n"
          ]
        }
      ]
    },
    {
      "cell_type": "markdown",
      "source": [
        "NOR Gate"
      ],
      "metadata": {
        "id": "VXK0UiNzHh-d"
      }
    },
    {
      "cell_type": "code",
      "source": [
        "def NOR_function(x):\n",
        "  output_OR = OR_function(x)\n",
        "  output_NOR = NOT_function(output_OR)\n",
        "  return output_NOR"
      ],
      "metadata": {
        "id": "T4lgXpNM3lwk"
      },
      "execution_count": null,
      "outputs": []
    },
    {
      "cell_type": "code",
      "source": [
        "print(NOR_function(test1))\n",
        "print(NOR_function(test2))\n",
        "print(NOR_function(test3))\n",
        "print(NOR_function(test4))"
      ],
      "metadata": {
        "colab": {
          "base_uri": "https://localhost:8080/"
        },
        "id": "w5M5lzsA4ndy",
        "outputId": "754c853c-10ca-4684-ba35-a43b95a3b49b"
      },
      "execution_count": null,
      "outputs": [
        {
          "output_type": "stream",
          "name": "stdout",
          "text": [
            "1\n",
            "0\n",
            "0\n",
            "0\n"
          ]
        }
      ]
    },
    {
      "cell_type": "markdown",
      "source": [
        "NAND Gate"
      ],
      "metadata": {
        "id": "qblzlHJBHlE7"
      }
    },
    {
      "cell_type": "code",
      "source": [
        "def NAND_function(x):\n",
        "  output_AND = AND_function(x)\n",
        "  output_NAND = NOT_function(output_AND)\n",
        "  return output_NAND"
      ],
      "metadata": {
        "id": "13P4_Jjs65Ti"
      },
      "execution_count": null,
      "outputs": []
    },
    {
      "cell_type": "code",
      "source": [
        "print(NAND_function(test1))\n",
        "print(NAND_function(test2))\n",
        "print(NAND_function(test3))\n",
        "print(NAND_function(test4))"
      ],
      "metadata": {
        "colab": {
          "base_uri": "https://localhost:8080/"
        },
        "id": "vtW1_DEX7Kwz",
        "outputId": "e66bb75d-5ffa-40f2-d69e-b33946614b18"
      },
      "execution_count": null,
      "outputs": [
        {
          "output_type": "stream",
          "name": "stdout",
          "text": [
            "1\n",
            "1\n",
            "1\n",
            "0\n"
          ]
        }
      ]
    },
    {
      "cell_type": "markdown",
      "source": [
        "XOR Gate"
      ],
      "metadata": {
        "id": "dpuwG0G2HnSz"
      }
    },
    {
      "cell_type": "code",
      "source": [
        "def XOR_function(x):\n",
        "  y1 = AND_function(x)\n",
        "  y2 = OR_function(x)\n",
        "  y3 = NOT_function(y1)\n",
        "  x2 = np.array([y2,y3])\n",
        "  y_net = AND_function(x2)\n",
        "  return y_net"
      ],
      "metadata": {
        "id": "TpElWkDM7VIC"
      },
      "execution_count": null,
      "outputs": []
    },
    {
      "cell_type": "code",
      "source": [
        "print(XOR_function(test1))\n",
        "print(XOR_function(test2))\n",
        "print(XOR_function(test3))\n",
        "print(XOR_function(test4))"
      ],
      "metadata": {
        "colab": {
          "base_uri": "https://localhost:8080/"
        },
        "id": "yz73_gGh7-oC",
        "outputId": "dd5d61e9-dce3-4e4d-cc58-b406198218f8"
      },
      "execution_count": null,
      "outputs": [
        {
          "output_type": "stream",
          "name": "stdout",
          "text": [
            "0\n",
            "1\n",
            "1\n",
            "0\n"
          ]
        }
      ]
    }
  ]
}